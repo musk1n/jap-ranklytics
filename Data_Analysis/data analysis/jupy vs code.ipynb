{
 "cells": [
  {
   "cell_type": "code",
   "execution_count": 6,
   "metadata": {},
   "outputs": [
    {
     "name": "stderr",
     "output_type": "stream",
     "text": [
      "C:\\Users\\91934\\AppData\\Local\\Temp\\ipykernel_22672\\2787185437.py:6: DtypeWarning: Columns (6,7) have mixed types. Specify dtype option on import or set low_memory=False.\n",
      "  file = pd.read_csv('combined2.csv')\n"
     ]
    },
    {
     "name": "stdout",
     "output_type": "stream",
     "text": [
      "                                                                                                                    Institute                                                                                                                                Academic Program Name\n",
      "                                                                     Indian Institute of Information Technology(IIIT) Dharwad                                                                                   Computer Science and Engineering (4 Years, Bachelor of Technology)\n",
      "                                                                          Indian Institute of Information Technology Guwahati                                                                          Electronics and Communication Engineering (4 Years, Bachelor of Technology)\n",
      "                                                                                Indian Institute  of Technology (ISM) Dhanbad                                                                                                Mining Engineering  (4 Years, Bachelor of Technology)\n",
      "                                                                                      Indian Institute  of Technology Jodhpur                                                                                           Physics with Specialization (4 Years, Bachelor of Science)\n",
      "                                                                                        Indian Institute  of Technology Patna                                                                                                  Civil Engineering (4 Years, Bachelor of Technology)\n",
      "                                                                                        Indian Institute  of Technology Mandi                                                                                                    Bio Engineering (4 Years, Bachelor of Technology)\n",
      "                                                                                  Indian Institute  of Technology Bhubaneswar                                                                            Metallurgical and Materials Engineering (4 Years, Bachelor of Technology)\n",
      "                                                                                        Indian Institute  of Technology Patna                                                   B. Tech in CE. - M. Tech.  in Structural Engineering (5 Years, B.Tech. + M.Tech./MS (Dual Degree))\n",
      "                                                                                        Indian Institute  of Technology Mandi                                                                        B.Tech in Materials Science and Engineering (4 Years, Bachelor of Technology)\n",
      "                                                                                        Indian Institute  of Technology Mandi                                                                                               BS in Chemical Sciences (4 Years, Bachelor of Science)\n",
      "                                                                                      Indian Institute  of Technology Jodhpur                                                                                                    Bio Engineering (4 Years, Bachelor of Technology)\n",
      "                                                                                   National Institute of Technology, Rourkela                                                                                                  Mathematics (5 Years, Integrated Master of Science)\n",
      "                                                                                Indian Institute  of Technology (ISM) Dhanbad                                                                                          Environmental Engineering (4 Years, Bachelor of Technology)\n",
      "                                                                                        Indian Institute  of Technology Patna                                                                                    Chemical Science and Technology (4 Years, Bachelor of Technology)\n",
      "                                                                                      Indian Institute  of Technology Jodhpur                                                                                              Materials Engineering (4 Years, Bachelor of Technology)\n",
      "                                                                                     Indian Institute  of Technology Tirupati                                                                                                  Civil Engineering (4 Years, Bachelor of Technology)\n",
      "                                                                                  Indian Institute  of Technology Bhubaneswar                                  Civil Engineering and M. Tech. in Structural Engineering (5 Years, Bachelor and Master of Technology (Dual Degree))\n",
      "                                                                                Indian Institute  of Technology (ISM) Dhanbad                                                                                       Mining Machinery Engineering (4 Years, Bachelor of Technology)\n",
      "                                                                               Indian Institute  of Technology (BHU) Varanasi                                                                        Mining Engineering (5 Years, Bachelor and Master of Technology (Dual Degree))\n",
      "                                                                                Indian Institute  of Technology (ISM) Dhanbad                                                                              Mineral and Metallurgical Engineering (4 Years, Bachelor of Technology)\n",
      "                                                                                        Indian Institute  of Technology Patna                                                 B. Tech in CE. - M. Tech.  in Geotechnical Engineering (5 Years, B.Tech. + M.Tech./MS (Dual Degree))\n",
      "                                                                                    Indian Institute  of Technology Kharagpur                                                                                                    Architecture  (5 Years, Bachelor of Architecture)\n",
      "                                                                    Indian Institute of Information Technology(IIIT) Kottayam                   Computer Science and Engineering with specialization in Artificial Intelligence and Data Science (4 Years, Bachelor of Technology)\n",
      "                                                                                     Indian Institute  of Technology Palakkad                                                                                                  Civil Engineering (4 Years, Bachelor of Technology)\n",
      "                                                                                        Indian Institute  of Technology Patna                                                                            Metallurgical and Materials Engineering (4 Years, Bachelor of Technology)\n",
      "                                                                                      Indian Institute  of Technology Roorkee                                                                                                    Architecture  (5 Years, Bachelor of Architecture)\n",
      "                                                                                  Indian Institute  of Technology Bhubaneswar                                Civil Engineering and M.Tech in Transportation Engineering (5 Years, Bachelor and Master of Technology (Dual Degree))\n",
      "                                                                               Indian Institute  of Technology (BHU) Varanasi                                                   Pharmaceutical Engineering & Technology (5 Years, Bachelor and Master of Technology (Dual Degree))\n",
      "                                                                     Motilal Nehru National Institute of Technology Allahabad                                                                                                  Civil Engineering (4 Years, Bachelor of Technology)\n",
      "                                                               Indian institute of information technology, Raichur, Karnataka                                                                           Artificial Intelligence and Data Science (4 Years, Bachelor of Technology)\n",
      "                                                        Indian Institute of Information Technology (IIIT), Sri City, Chittoor                                                                           Artificial Intelligence and Data Science (4 Years, Bachelor of Technology)\n",
      "                                                                    Indian Institute of Information Technology(IIIT) Kottayam                                                                                   Computer Science and Engineering (4 Years, Bachelor of Technology)\n",
      "                                                                                    National Institute of Technology Hamirpur                                                                                                Engineering Physics (4 Years, Bachelor of Technology)\n",
      "                                    Indian Institute of Information Technology Design & Manufacturing Kurnool, Andhra Pradesh                                                                                   Computer Science and Engineering (4 Years, Bachelor of Technology)\n",
      "                                                                                National Institute of Technology, Kurukshetra                                                                                                  Civil Engineering (4 Years, Bachelor of Technology)\n",
      "                                                                             Malaviya National Institute of Technology Jaipur                                                                                                  Civil Engineering (4 Years, Bachelor of Technology)\n",
      "                                     Indian Institute of Information Technology, Vadodara International Campus Diu (IIITVICD)                                                                                   Computer Science and Engineering (4 Years, Bachelor of Technology)\n",
      "                                                               International Institute of Information Technology, Bhubaneswar                                                                      Electronics and Telecommunication Engineering (4 Years, Bachelor of Technology)\n",
      "                                                                   Sardar Vallabhbhai National Institute of Technology, Surat                                                                                             Mechanical Engineering (4 Years, Bachelor of Technology)\n",
      "                                             Indian Institute of Information Technology, Design & Manufacturing, Kancheepuram           B.Tech. in Electronics and Communication Engineering and M.Tech. in VLSI Design (5 Years, Bachelor and Master of Technology (Dual Degree))\n",
      "                                                                                   National Institute of Technology, Warangal                                                                                                     Bio Technology (4 Years, Bachelor of Technology)\n",
      "                                              Institute of Chemical Technology, Mumbai: Indian Oil Odisha Campus, Bhubaneswar                                                                                     Chemical Engineering (5 Years, Integrated Masters in Technology)\n",
      "                                                               Indian institute of information technology, Raichur, Karnataka                                                                                   Computer Science and Engineering (4 Years, Bachelor of Technology)\n",
      "                                                                                     National Institute of Technology Calicut                                                                                               Chemical Engineering (4 Years, Bachelor of Technology)\n",
      "                                                                         Indian Institute of Information Technology Bhagalpur                                                                                   Computer Science and Engineering (4 Years, Bachelor of Technology)\n",
      "                                                                        National Institute of Technology Karnataka, Surathkal                                                                                                Mining Engineering  (4 Years, Bachelor of Technology)\n",
      "                                                                    Indian Institute of Information Technology(IIIT) Kottayam                                                                          Electronics and Communication Engineering (4 Years, Bachelor of Technology)\n",
      "                                             Indian Institute of Information Technology, Design & Manufacturing, Kancheepuram B.Tech. in Electronics and Communication Engineering and M.Tech. in Communication Systems (5 Years, Bachelor and Master of Technology (Dual Degree))\n",
      "                                                                                                      University of Hyderabad                                                          Computer Science and Engineering (5 Years, Bachelor and Master of Technology (Dual Degree))\n",
      "                                                                     Indian Institute of Information Technology (IIIT) Nagpur                                    Computer Science Engineering (Human Computer lnteraction and Gaming Technology) (4 Years, Bachelor of Technology)\n",
      "                                                                                    National Institute of Technology, Mizoram                                                                                          Mathematics and Computing (4 Years, Bachelor of Technology)\n",
      "                                                        Indian Institute of Information Technology(IIIT) Kalyani, West Bengal                                                                                   Computer Science and Engineering (4 Years, Bachelor of Technology)\n",
      "                                                                         Indian Institute of Information Technology, Agartala                                                                                   Computer Science and Engineering (4 Years, Bachelor of Technology)\n",
      "                                                             Indian Institute of Information Technology (IIIT)Kota, Rajasthan                                                                          Electronics and Communication Engineering (4 Years, Bachelor of Technology)\n",
      "                                                                             Indian Institute of Information Technology Surat                                                                          Electronics and Communication Engineering (4 Years, Bachelor of Technology)\n",
      "                                                                                   National Institute of Technology, Srinagar                                                                          Electronics and Communication Engineering (4 Years, Bachelor of Technology)\n",
      "                                                                                Birla Institute of Technology, Mesra,  Ranchi                                                                                    Mathematics and Computing (5 Years, Integrated Master of Science)\n",
      "                                                                         Maulana Azad National Institute of Technology Bhopal                                                                                             Mechanical Engineering (4 Years, Bachelor of Technology)\n",
      "                                                                                   National Institute of Technology, Rourkela                                                                            Metallurgical and Materials Engineering (4 Years, Bachelor of Technology)\n",
      "                                                                                    National Institute of Technology Nagaland                                                                                   Computer Science and Engineering (4 Years, Bachelor of Technology)\n",
      "                                                                                    National Institute of Technology Durgapur                                                                                             Mechanical Engineering (4 Years, Bachelor of Technology)\n",
      "                                                                            Indian Institute of Information Technology Bhopal                                                                          Electronics and Communication Engineering (4 Years, Bachelor of Technology)\n",
      "                                                                   Sardar Vallabhbhai National Institute of Technology, Surat                                                                                               Chemical Engineering (4 Years, Bachelor of Technology)\n",
      "                                                                 Dr. B R Ambedkar National Institute of Technology, Jalandhar                                                                            Instrumentation and Control Engineering (4 Years, Bachelor of Technology)\n",
      "                                                                                  National Institute of Technology Puducherry                                                                             Electrical and Electronics Engineering (4 Years, Bachelor of Technology)\n",
      "                                                                     Motilal Nehru National Institute of Technology Allahabad                                                                                                     Bio Technology (4 Years, Bachelor of Technology)\n",
      "                                                                        Visvesvaraya National Institute of Technology, Nagpur                                                                                               Chemical Engineering (4 Years, Bachelor of Technology)\n",
      "                                                                                   National Institute of Technology, Warangal                                                                                                    Chemistry (5 Years, Integrated Master of Science)\n",
      "                                                                                       National Institute of Technology Patna                                                                                             Mechanical Engineering (4 Years, Bachelor of Technology)\n",
      "                                                                                       Punjab Engineering College, Chandigarh                                                                                             Mechanical Engineering (4 Years, Bachelor of Technology)\n",
      "                                                                                   National Institute of Technology, Rourkela                                                                                                     Bio Technology (4 Years, Bachelor of Technology)\n",
      "                                                                             National Institute of Technology, Andhra Pradesh                                                                             Electrical and Electronics Engineering (4 Years, Bachelor of Technology)\n",
      "                                                                     Indian Institute of Information Technology (IIIT) Ranchi          Computer Science and Engineering (with Specialization of Data Science and Artificial Intelligence)\\r\\n (4 Years, B. Tech / B. Tech (Hons.))\n",
      "                                                                     Indian Institute of Information Technology (IIIT) Ranchi                                                                                   Computer Science and Engineering (4 Years, Bachelor of Technology)\n",
      "                                                                     Indian Institute of Information Technology (IIIT) Nagpur                                                                          Electronics and Communication Engineering (4 Years, Bachelor of Technology)\n",
      "                                                               International Institute of Information Technology, Bhubaneswar                                                                                             Information Technology (4 Years, Bachelor of Technology)\n",
      "                                                                                   National Institute of Technology  Agartala                                                           Mathematics & Computing (5 Years, Bachelor of Science and Master of Science (Dual Degree))\n",
      "                                                                                    National Institute of Technology, Silchar                                                                                             Mechanical Engineering (4 Years, Bachelor of Technology)\n",
      "                                                                        Visvesvaraya National Institute of Technology, Nagpur                                                                                                  Civil Engineering (4 Years, Bachelor of Technology)\n",
      "                                                                 Dr. B R Ambedkar National Institute of Technology, Jalandhar                                                                                             Mechanical Engineering (4 Years, Bachelor of Technology)\n",
      "                                                              Indian Institute of Engineering Science and Technology, Shibpur                                                                                             Mechanical Engineering (4 Years, Bachelor of Technology)\n",
      "                                                                                   National Institute of Technology  Agartala                                                                        Electronics and Instrumentation Engineering (4 Years, Bachelor of Technology)\n",
      "                                                               International Institute of Information Technology, Naya Raipur                                                                          Electronics and Communication Engineering (4 Years, Bachelor of Technology)\n",
      "                                                        Indian Institute of Information Technology (IIIT), Sri City, Chittoor                                                                          Electronics and Communication Engineering (4 Years, Bachelor of Technology)\n",
      "                                                                                   National Institute of Technology, Rourkela                                                                                                      Physics (5 Years, Integrated Master of Science)\n",
      "                                                       Indian Institute of Information Technology(IIIT) Una, Himachal Pradesh                                                                                             Information Technology (4 Years, Bachelor of Technology)\n",
      "                                                                                Birla Institute of Technology, Mesra,  Ranchi                                                                             Electrical and Electronics Engineering (4 Years, Bachelor of Technology)\n",
      "                                                                                    National Institute of Technology Hamirpur                                                                                             Mechanical Engineering (4 Years, Bachelor of Technology)\n",
      "                                                                                         National Institute of Technology Goa                                                                                             Mechanical Engineering (4 Years, Bachelor of Technology)\n",
      "                                                                                    National Institute of Technology Durgapur                                                                                                  Civil Engineering (4 Years, Bachelor of Technology)\n",
      "                                                                                     National Institute of Technology Calicut                                                                                  Materials Science and Engineering (4 Years, Bachelor of Technology)\n",
      "                                                               International Institute of Information Technology, Bhubaneswar                                                                                               Computer Engineering (4 Years, Bachelor of Technology)\n",
      "                                                                                Birla Institute of Technology, Mesra,  Ranchi                                                                                             Mechanical Engineering (4 Years, Bachelor of Technology)\n",
      "                                                                    Indian Institute of Information Technology(IIIT) Kottayam                                         Computer Science and Engineering with specialization in Cyber Security\\r\\n (4 Years, Bachelor of Technology)\n",
      "                                                                                           Jawaharlal Nehru University, Delhi                                                                          Electronics and Communication Engineering (4 Years, Bachelor of Technology)\n",
      "                                                                                Birla Institute of Technology, Mesra,  Ranchi                                                                                               Chemical Engineering (4 Years, Bachelor of Technology)\n",
      "                                                                                     National Institute of Technology Calicut                                                                                                  Civil Engineering (4 Years, Bachelor of Technology)\n",
      "                                                                     Motilal Nehru National Institute of Technology Allahabad                                                                              Production and Industrial Engineering (4 Years, Bachelor of Technology)\n",
      "                                                                                   National Institute of Technology  Agartala                                                                 Computational Mathematics (5 Years, Bachelor and Master of Technology (Dual Degree))\n",
      "                                                                                    National Institute of Technology, Mizoram                                                                                   Computer Science and Engineering (4 Years, Bachelor of Technology)\n",
      "                                                                     Indian Institute of Information Technology (IIIT) Nagpur                                                     Electronics and Communication Engineering (Internet of Things) (4 Years, Bachelor of Technology)\n",
      "                                                                                   National Institute of Technology, Rourkela                                                                                                  Industrial Design (4 Years, Bachelor of Technology)\n",
      "                                                                              Birla Institute of Technology, Patna Off-Campus                                                                                   Computer Science and Engineering (4 Years, Bachelor of Technology)\n",
      "                                                                                National Institute of Technology, Uttarakhand                                                                             Electrical and Electronics Engineering (4 Years, Bachelor of Technology)\n",
      "                                                       Indian Institute of Information Technology(IIIT) Una, Himachal Pradesh                                                                          Electronics and Communication Engineering (4 Years, Bachelor of Technology)\n",
      "                                                                           National Institute of Technology Arunachal Pradesh                                                                          Electronics and Communication Engineering (4 Years, Bachelor of Technology)\n",
      "                                                                                Birla Institute of Technology, Mesra,  Ranchi                                                                        Quantitative Economics & Data Science (5 Years, Integrated Master of Science)\n",
      "                                                                                      National Institute of Technology Raipur                                                                                             Mechanical Engineering (4 Years, Bachelor of Technology)\n",
      "                                                                                   National Institute of Technology, Rourkela                                                                                                Mining Engineering  (4 Years, Bachelor of Technology)\n",
      "J.K. Institute of Applied Physics & Technology, Department of Electronics & Communication, University of Allahabad- Allahabad                                                                                   Computer Science and Engineering (4 Years, Bachelor of Technology)\n"
     ]
    },
    {
     "name": "stderr",
     "output_type": "stream",
     "text": [
      "C:\\Users\\91934\\AppData\\Local\\Temp\\ipykernel_22672\\2787185437.py:40: SettingWithCopyWarning: \n",
      "A value is trying to be set on a copy of a slice from a DataFrame.\n",
      "Try using .loc[row_indexer,col_indexer] = value instead\n",
      "\n",
      "See the caveats in the documentation: https://pandas.pydata.org/pandas-docs/stable/user_guide/indexing.html#returning-a-view-versus-a-copy\n",
      "  df['Opening Rank'] = pd.to_numeric(df['Opening Rank'], errors='coerce')\n",
      "C:\\Users\\91934\\AppData\\Local\\Temp\\ipykernel_22672\\2787185437.py:41: SettingWithCopyWarning: \n",
      "A value is trying to be set on a copy of a slice from a DataFrame.\n",
      "Try using .loc[row_indexer,col_indexer] = value instead\n",
      "\n",
      "See the caveats in the documentation: https://pandas.pydata.org/pandas-docs/stable/user_guide/indexing.html#returning-a-view-versus-a-copy\n",
      "  df['Closing Rank'] = pd.to_numeric(df['Closing Rank'], errors='coerce')\n",
      "C:\\Users\\91934\\AppData\\Local\\Temp\\ipykernel_22672\\2787185437.py:42: SettingWithCopyWarning: \n",
      "A value is trying to be set on a copy of a slice from a DataFrame\n",
      "\n",
      "See the caveats in the documentation: https://pandas.pydata.org/pandas-docs/stable/user_guide/indexing.html#returning-a-view-versus-a-copy\n",
      "  df.dropna(subset=['Closing Rank', 'Institute'], inplace=True)\n"
     ]
    }
   ],
   "source": [
    "##1 branch and college according to Rank\n",
    "import pandas as pd\n",
    "import numpy as np\n",
    "\n",
    "# Load datasets\n",
    "file = pd.read_csv('combined2.csv')\n",
    "seats_file = pd.read_csv('Seat_State_Matrix.csv')\n",
    "seats_file.dropna(subset='Total (includes Female Supernumerary)', inplace=True)\n",
    "\n",
    "# Filter IIT and non-IIT data for round 6 and year 2023\n",
    "file1 = file.loc[\n",
    "    (file['Round'] == 6) & \n",
    "    (file['Year'] == 2023) & \n",
    "    (file['Institute'].str.contains('Indian Institute  of Technology', case=False, na=False))\n",
    "]\n",
    "\n",
    "file2 = file.loc[\n",
    "    (file['Round'] == 6) & \n",
    "    (file['Year'] == 2023) & \n",
    "    (~(file['Institute'].str.contains('Indian Institute  of Technology', case=False, na=False)))\n",
    "]\n",
    "\n",
    "# Get user inputs\n",
    "adv_rank = int(input(\"Enter Your Advanced Rank:\"))\n",
    "mains_rank = int(input(\"Enter Your Mains Rank:\"))\n",
    "seatty = input(\"Enter Your seat type(OPEN,EWS,OBC-NCL,SC,ST,EWS (PwD),OBC-NCL (PwD),OPEN (PwD), SC (PwD), ST(PwD)):\")\n",
    "gender = input(\"Enter Your Gender(Male,Female):\")\n",
    "state = input(\"Enter Your State:\")\n",
    "state = state.upper()\n",
    "\n",
    "# Filter state quota from seats_file\n",
    "state_quota = seats_file.loc[seats_file['State/All India Seats'] == state]\n",
    "home_state_institute = state_quota['Institute Name']\n",
    "\n",
    "# Define gender list based on input\n",
    "gender_list = ['Female-only (including Supernumerary)'] if gender.lower() == 'female' else ['Gender-Neutral']\n",
    "\n",
    "# Convert ranks to numeric, coercing errors to NaN, and drop rows with NaN values in relevant columns\n",
    "for df in [file1, file2]:\n",
    "    df['Opening Rank'] = pd.to_numeric(df['Opening Rank'], errors='coerce')\n",
    "    df['Closing Rank'] = pd.to_numeric(df['Closing Rank'], errors='coerce')\n",
    "    df.dropna(subset=['Closing Rank', 'Institute'], inplace=True)\n",
    "\n",
    "# Filter choices for IITs\n",
    "choices_iit = file1.loc[\n",
    "    (adv_rank >= file1['Opening Rank']) & \n",
    "    (adv_rank <= file1['Closing Rank']) & \n",
    "    (seatty.upper() == file1['Seat Type']) & \n",
    "    (file1['Gender'].isin(gender_list))\n",
    "]\n",
    "\n",
    "# Filter choices for other institutes\n",
    "choices_other = file2.loc[\n",
    "    (mains_rank >= file2['Opening Rank']) & \n",
    "    (mains_rank <= file2['Closing Rank']) & \n",
    "    (seatty.upper() == file2['Seat Type']) & \n",
    "    (file2['Gender'].isin(gender_list)) & \n",
    "    (\n",
    "        (file2['Quota'] == 'OS') | \n",
    "        (file2['Quota'] == 'AI') )\n",
    "]\n",
    "\n",
    "choices_home = file2.loc[(mains_rank >= file2['Opening Rank']) & \n",
    "    (mains_rank <= file2['Closing Rank']) & \n",
    "    (seatty.upper() == file2['Seat Type']) & \n",
    "    (file2['Gender'].isin(gender_list)) &\n",
    "    (file2['Quota']== 'HS') &\n",
    "    (file2['Institute'].values[0] == home_state_institute)\n",
    "]\n",
    "\n",
    "# Concatenate and sort the choices\n",
    "choices_other = pd.concat([choices_home,choices_other])\n",
    "choices = pd.concat([choices_iit, choices_other]).sort_values(by='Opening Rank')\n",
    "\n",
    "# Print the filtered choices without index\n",
    "print(choices[['Institute', 'Academic Program Name']].to_string(index=False))"
   ]
  },
  {
   "cell_type": "code",
   "execution_count": 29,
   "metadata": {},
   "outputs": [
    {
     "name": "stderr",
     "output_type": "stream",
     "text": [
      "C:\\Users\\91934\\AppData\\Local\\Temp\\ipykernel_30452\\1057400926.py:8: DtypeWarning:\n",
      "\n",
      "Columns (6,7) have mixed types. Specify dtype option on import or set low_memory=False.\n",
      "\n"
     ]
    },
    {
     "name": "stdout",
     "output_type": "stream",
     "text": [
      "Top 10 Most Popular Branches Based on Rank Difference:\n",
      "364986    Computer Science and Engineering (4 Years, Bac...\n",
      "365266    Computer Science and Engineering (5 Years, Bac...\n",
      "365346    Mathematics and Computing (4 Years, Bachelor o...\n",
      "365014    Electrical Engineering (4 Years, Bachelor of T...\n",
      "365359    Mathematics and Computing (5 Years, Bachelor a...\n",
      "366757    Data Science and Artificial Intelligence (4 Ye...\n",
      "365291    Electrical Engineering (Power and Automation) ...\n",
      "365864    Artificial Intelligence (4 Years, Bachelor of ...\n",
      "365027    Electrical Engineering (5 Years, Bachelor and ...\n",
      "366229    Mathematics and Scientific Computing (4 Years,...\n",
      "Name: Academic Program Name, dtype: object\n"
     ]
    },
    {
     "data": {
      "application/vnd.plotly.v1+json": {
       "config": {
        "plotlyServerURL": "https://plot.ly"
       },
       "data": [
        {
         "alignmentgroup": "True",
         "hovertemplate": "Average Rank=%{marker.color}<br>Academic Program Name=%{y}<extra></extra>",
         "legendgroup": "",
         "marker": {
          "color": [
           34,
           152.5,
           243.5,
           311.5,
           393,
           628.5,
           708.5,
           747,
           772,
           839.5
          ],
          "coloraxis": "coloraxis",
          "pattern": {
           "shape": ""
          }
         },
         "name": "",
         "offsetgroup": "",
         "orientation": "h",
         "showlegend": false,
         "textposition": "auto",
         "type": "bar",
         "x": [
          34,
          152.5,
          243.5,
          311.5,
          393,
          628.5,
          708.5,
          747,
          772,
          839.5
         ],
         "xaxis": "x",
         "y": [
          "Computer Science and Engineering (4 Years, Bachelor of Technology)",
          "Computer Science and Engineering (5 Years, Bachelor and Master of Technology (Dual Degree))",
          "Mathematics and Computing (4 Years, Bachelor of Technology)",
          "Electrical Engineering (4 Years, Bachelor of Technology)",
          "Mathematics and Computing (5 Years, Bachelor and Master of Technology (Dual Degree))",
          "Data Science and Artificial Intelligence (4 Years, Bachelor of Technology)",
          "Electrical Engineering (Power and Automation) (4 Years, Bachelor of Technology)",
          "Artificial Intelligence (4 Years, Bachelor of Technology)",
          "Electrical Engineering (5 Years, Bachelor and Master of Technology (Dual Degree))",
          "Mathematics and Scientific Computing (4 Years, Bachelor of Science)"
         ],
         "yaxis": "y"
        }
       ],
       "layout": {
        "barmode": "relative",
        "coloraxis": {
         "colorbar": {
          "title": {
           "text": "Average Rank"
          }
         },
         "colorscale": [
          [
           0,
           "rgb(247,251,255)"
          ],
          [
           0.125,
           "rgb(222,235,247)"
          ],
          [
           0.25,
           "rgb(198,219,239)"
          ],
          [
           0.375,
           "rgb(158,202,225)"
          ],
          [
           0.5,
           "rgb(107,174,214)"
          ],
          [
           0.625,
           "rgb(66,146,198)"
          ],
          [
           0.75,
           "rgb(33,113,181)"
          ],
          [
           0.875,
           "rgb(8,81,156)"
          ],
          [
           1,
           "rgb(8,48,107)"
          ]
         ]
        },
        "legend": {
         "tracegroupgap": 0
        },
        "template": {
         "data": {
          "bar": [
           {
            "error_x": {
             "color": "#2a3f5f"
            },
            "error_y": {
             "color": "#2a3f5f"
            },
            "marker": {
             "line": {
              "color": "#E5ECF6",
              "width": 0.5
             },
             "pattern": {
              "fillmode": "overlay",
              "size": 10,
              "solidity": 0.2
             }
            },
            "type": "bar"
           }
          ],
          "barpolar": [
           {
            "marker": {
             "line": {
              "color": "#E5ECF6",
              "width": 0.5
             },
             "pattern": {
              "fillmode": "overlay",
              "size": 10,
              "solidity": 0.2
             }
            },
            "type": "barpolar"
           }
          ],
          "carpet": [
           {
            "aaxis": {
             "endlinecolor": "#2a3f5f",
             "gridcolor": "white",
             "linecolor": "white",
             "minorgridcolor": "white",
             "startlinecolor": "#2a3f5f"
            },
            "baxis": {
             "endlinecolor": "#2a3f5f",
             "gridcolor": "white",
             "linecolor": "white",
             "minorgridcolor": "white",
             "startlinecolor": "#2a3f5f"
            },
            "type": "carpet"
           }
          ],
          "choropleth": [
           {
            "colorbar": {
             "outlinewidth": 0,
             "ticks": ""
            },
            "type": "choropleth"
           }
          ],
          "contour": [
           {
            "colorbar": {
             "outlinewidth": 0,
             "ticks": ""
            },
            "colorscale": [
             [
              0,
              "#0d0887"
             ],
             [
              0.1111111111111111,
              "#46039f"
             ],
             [
              0.2222222222222222,
              "#7201a8"
             ],
             [
              0.3333333333333333,
              "#9c179e"
             ],
             [
              0.4444444444444444,
              "#bd3786"
             ],
             [
              0.5555555555555556,
              "#d8576b"
             ],
             [
              0.6666666666666666,
              "#ed7953"
             ],
             [
              0.7777777777777778,
              "#fb9f3a"
             ],
             [
              0.8888888888888888,
              "#fdca26"
             ],
             [
              1,
              "#f0f921"
             ]
            ],
            "type": "contour"
           }
          ],
          "contourcarpet": [
           {
            "colorbar": {
             "outlinewidth": 0,
             "ticks": ""
            },
            "type": "contourcarpet"
           }
          ],
          "heatmap": [
           {
            "colorbar": {
             "outlinewidth": 0,
             "ticks": ""
            },
            "colorscale": [
             [
              0,
              "#0d0887"
             ],
             [
              0.1111111111111111,
              "#46039f"
             ],
             [
              0.2222222222222222,
              "#7201a8"
             ],
             [
              0.3333333333333333,
              "#9c179e"
             ],
             [
              0.4444444444444444,
              "#bd3786"
             ],
             [
              0.5555555555555556,
              "#d8576b"
             ],
             [
              0.6666666666666666,
              "#ed7953"
             ],
             [
              0.7777777777777778,
              "#fb9f3a"
             ],
             [
              0.8888888888888888,
              "#fdca26"
             ],
             [
              1,
              "#f0f921"
             ]
            ],
            "type": "heatmap"
           }
          ],
          "heatmapgl": [
           {
            "colorbar": {
             "outlinewidth": 0,
             "ticks": ""
            },
            "colorscale": [
             [
              0,
              "#0d0887"
             ],
             [
              0.1111111111111111,
              "#46039f"
             ],
             [
              0.2222222222222222,
              "#7201a8"
             ],
             [
              0.3333333333333333,
              "#9c179e"
             ],
             [
              0.4444444444444444,
              "#bd3786"
             ],
             [
              0.5555555555555556,
              "#d8576b"
             ],
             [
              0.6666666666666666,
              "#ed7953"
             ],
             [
              0.7777777777777778,
              "#fb9f3a"
             ],
             [
              0.8888888888888888,
              "#fdca26"
             ],
             [
              1,
              "#f0f921"
             ]
            ],
            "type": "heatmapgl"
           }
          ],
          "histogram": [
           {
            "marker": {
             "pattern": {
              "fillmode": "overlay",
              "size": 10,
              "solidity": 0.2
             }
            },
            "type": "histogram"
           }
          ],
          "histogram2d": [
           {
            "colorbar": {
             "outlinewidth": 0,
             "ticks": ""
            },
            "colorscale": [
             [
              0,
              "#0d0887"
             ],
             [
              0.1111111111111111,
              "#46039f"
             ],
             [
              0.2222222222222222,
              "#7201a8"
             ],
             [
              0.3333333333333333,
              "#9c179e"
             ],
             [
              0.4444444444444444,
              "#bd3786"
             ],
             [
              0.5555555555555556,
              "#d8576b"
             ],
             [
              0.6666666666666666,
              "#ed7953"
             ],
             [
              0.7777777777777778,
              "#fb9f3a"
             ],
             [
              0.8888888888888888,
              "#fdca26"
             ],
             [
              1,
              "#f0f921"
             ]
            ],
            "type": "histogram2d"
           }
          ],
          "histogram2dcontour": [
           {
            "colorbar": {
             "outlinewidth": 0,
             "ticks": ""
            },
            "colorscale": [
             [
              0,
              "#0d0887"
             ],
             [
              0.1111111111111111,
              "#46039f"
             ],
             [
              0.2222222222222222,
              "#7201a8"
             ],
             [
              0.3333333333333333,
              "#9c179e"
             ],
             [
              0.4444444444444444,
              "#bd3786"
             ],
             [
              0.5555555555555556,
              "#d8576b"
             ],
             [
              0.6666666666666666,
              "#ed7953"
             ],
             [
              0.7777777777777778,
              "#fb9f3a"
             ],
             [
              0.8888888888888888,
              "#fdca26"
             ],
             [
              1,
              "#f0f921"
             ]
            ],
            "type": "histogram2dcontour"
           }
          ],
          "mesh3d": [
           {
            "colorbar": {
             "outlinewidth": 0,
             "ticks": ""
            },
            "type": "mesh3d"
           }
          ],
          "parcoords": [
           {
            "line": {
             "colorbar": {
              "outlinewidth": 0,
              "ticks": ""
             }
            },
            "type": "parcoords"
           }
          ],
          "pie": [
           {
            "automargin": true,
            "type": "pie"
           }
          ],
          "scatter": [
           {
            "fillpattern": {
             "fillmode": "overlay",
             "size": 10,
             "solidity": 0.2
            },
            "type": "scatter"
           }
          ],
          "scatter3d": [
           {
            "line": {
             "colorbar": {
              "outlinewidth": 0,
              "ticks": ""
             }
            },
            "marker": {
             "colorbar": {
              "outlinewidth": 0,
              "ticks": ""
             }
            },
            "type": "scatter3d"
           }
          ],
          "scattercarpet": [
           {
            "marker": {
             "colorbar": {
              "outlinewidth": 0,
              "ticks": ""
             }
            },
            "type": "scattercarpet"
           }
          ],
          "scattergeo": [
           {
            "marker": {
             "colorbar": {
              "outlinewidth": 0,
              "ticks": ""
             }
            },
            "type": "scattergeo"
           }
          ],
          "scattergl": [
           {
            "marker": {
             "colorbar": {
              "outlinewidth": 0,
              "ticks": ""
             }
            },
            "type": "scattergl"
           }
          ],
          "scattermapbox": [
           {
            "marker": {
             "colorbar": {
              "outlinewidth": 0,
              "ticks": ""
             }
            },
            "type": "scattermapbox"
           }
          ],
          "scatterpolar": [
           {
            "marker": {
             "colorbar": {
              "outlinewidth": 0,
              "ticks": ""
             }
            },
            "type": "scatterpolar"
           }
          ],
          "scatterpolargl": [
           {
            "marker": {
             "colorbar": {
              "outlinewidth": 0,
              "ticks": ""
             }
            },
            "type": "scatterpolargl"
           }
          ],
          "scatterternary": [
           {
            "marker": {
             "colorbar": {
              "outlinewidth": 0,
              "ticks": ""
             }
            },
            "type": "scatterternary"
           }
          ],
          "surface": [
           {
            "colorbar": {
             "outlinewidth": 0,
             "ticks": ""
            },
            "colorscale": [
             [
              0,
              "#0d0887"
             ],
             [
              0.1111111111111111,
              "#46039f"
             ],
             [
              0.2222222222222222,
              "#7201a8"
             ],
             [
              0.3333333333333333,
              "#9c179e"
             ],
             [
              0.4444444444444444,
              "#bd3786"
             ],
             [
              0.5555555555555556,
              "#d8576b"
             ],
             [
              0.6666666666666666,
              "#ed7953"
             ],
             [
              0.7777777777777778,
              "#fb9f3a"
             ],
             [
              0.8888888888888888,
              "#fdca26"
             ],
             [
              1,
              "#f0f921"
             ]
            ],
            "type": "surface"
           }
          ],
          "table": [
           {
            "cells": {
             "fill": {
              "color": "#EBF0F8"
             },
             "line": {
              "color": "white"
             }
            },
            "header": {
             "fill": {
              "color": "#C8D4E3"
             },
             "line": {
              "color": "white"
             }
            },
            "type": "table"
           }
          ]
         },
         "layout": {
          "annotationdefaults": {
           "arrowcolor": "#2a3f5f",
           "arrowhead": 0,
           "arrowwidth": 1
          },
          "autotypenumbers": "strict",
          "coloraxis": {
           "colorbar": {
            "outlinewidth": 0,
            "ticks": ""
           }
          },
          "colorscale": {
           "diverging": [
            [
             0,
             "#8e0152"
            ],
            [
             0.1,
             "#c51b7d"
            ],
            [
             0.2,
             "#de77ae"
            ],
            [
             0.3,
             "#f1b6da"
            ],
            [
             0.4,
             "#fde0ef"
            ],
            [
             0.5,
             "#f7f7f7"
            ],
            [
             0.6,
             "#e6f5d0"
            ],
            [
             0.7,
             "#b8e186"
            ],
            [
             0.8,
             "#7fbc41"
            ],
            [
             0.9,
             "#4d9221"
            ],
            [
             1,
             "#276419"
            ]
           ],
           "sequential": [
            [
             0,
             "#0d0887"
            ],
            [
             0.1111111111111111,
             "#46039f"
            ],
            [
             0.2222222222222222,
             "#7201a8"
            ],
            [
             0.3333333333333333,
             "#9c179e"
            ],
            [
             0.4444444444444444,
             "#bd3786"
            ],
            [
             0.5555555555555556,
             "#d8576b"
            ],
            [
             0.6666666666666666,
             "#ed7953"
            ],
            [
             0.7777777777777778,
             "#fb9f3a"
            ],
            [
             0.8888888888888888,
             "#fdca26"
            ],
            [
             1,
             "#f0f921"
            ]
           ],
           "sequentialminus": [
            [
             0,
             "#0d0887"
            ],
            [
             0.1111111111111111,
             "#46039f"
            ],
            [
             0.2222222222222222,
             "#7201a8"
            ],
            [
             0.3333333333333333,
             "#9c179e"
            ],
            [
             0.4444444444444444,
             "#bd3786"
            ],
            [
             0.5555555555555556,
             "#d8576b"
            ],
            [
             0.6666666666666666,
             "#ed7953"
            ],
            [
             0.7777777777777778,
             "#fb9f3a"
            ],
            [
             0.8888888888888888,
             "#fdca26"
            ],
            [
             1,
             "#f0f921"
            ]
           ]
          },
          "colorway": [
           "#636efa",
           "#EF553B",
           "#00cc96",
           "#ab63fa",
           "#FFA15A",
           "#19d3f3",
           "#FF6692",
           "#B6E880",
           "#FF97FF",
           "#FECB52"
          ],
          "font": {
           "color": "#2a3f5f"
          },
          "geo": {
           "bgcolor": "white",
           "lakecolor": "white",
           "landcolor": "#E5ECF6",
           "showlakes": true,
           "showland": true,
           "subunitcolor": "white"
          },
          "hoverlabel": {
           "align": "left"
          },
          "hovermode": "closest",
          "mapbox": {
           "style": "light"
          },
          "paper_bgcolor": "white",
          "plot_bgcolor": "#E5ECF6",
          "polar": {
           "angularaxis": {
            "gridcolor": "white",
            "linecolor": "white",
            "ticks": ""
           },
           "bgcolor": "#E5ECF6",
           "radialaxis": {
            "gridcolor": "white",
            "linecolor": "white",
            "ticks": ""
           }
          },
          "scene": {
           "xaxis": {
            "backgroundcolor": "#E5ECF6",
            "gridcolor": "white",
            "gridwidth": 2,
            "linecolor": "white",
            "showbackground": true,
            "ticks": "",
            "zerolinecolor": "white"
           },
           "yaxis": {
            "backgroundcolor": "#E5ECF6",
            "gridcolor": "white",
            "gridwidth": 2,
            "linecolor": "white",
            "showbackground": true,
            "ticks": "",
            "zerolinecolor": "white"
           },
           "zaxis": {
            "backgroundcolor": "#E5ECF6",
            "gridcolor": "white",
            "gridwidth": 2,
            "linecolor": "white",
            "showbackground": true,
            "ticks": "",
            "zerolinecolor": "white"
           }
          },
          "shapedefaults": {
           "line": {
            "color": "#2a3f5f"
           }
          },
          "ternary": {
           "aaxis": {
            "gridcolor": "white",
            "linecolor": "white",
            "ticks": ""
           },
           "baxis": {
            "gridcolor": "white",
            "linecolor": "white",
            "ticks": ""
           },
           "bgcolor": "#E5ECF6",
           "caxis": {
            "gridcolor": "white",
            "linecolor": "white",
            "ticks": ""
           }
          },
          "title": {
           "x": 0.05
          },
          "xaxis": {
           "automargin": true,
           "gridcolor": "white",
           "linecolor": "white",
           "ticks": "",
           "title": {
            "standoff": 15
           },
           "zerolinecolor": "white",
           "zerolinewidth": 2
          },
          "yaxis": {
           "automargin": true,
           "gridcolor": "white",
           "linecolor": "white",
           "ticks": "",
           "title": {
            "standoff": 15
           },
           "zerolinecolor": "white",
           "zerolinewidth": 2
          }
         }
        },
        "title": {
         "text": "Average Rank of Top 10 Different Branches"
        },
        "xaxis": {
         "anchor": "y",
         "domain": [
          0,
          1
         ],
         "title": {
          "text": "Average Rank"
         }
        },
        "yaxis": {
         "anchor": "x",
         "categoryorder": "total ascending",
         "domain": [
          0,
          1
         ],
         "title": {
          "text": "Academic Program Name"
         }
        }
       }
      }
     },
     "metadata": {},
     "output_type": "display_data"
    },
    {
     "data": {
      "application/vnd.plotly.v1+json": {
       "config": {
        "plotlyServerURL": "https://plot.ly"
       },
       "data": [
        {
         "line": {
          "width": 2
         },
         "mode": "lines+markers",
         "name": "Computer Science and Engineering (4 Years, Bachelor of Technology) - Average Rank",
         "opacity": 0.8,
         "type": "scatter",
         "x": [
          2018,
          2019,
          2020,
          2021,
          2022,
          2023
         ],
         "y": [
          236.58333333333334,
          212.75,
          215,
          208.41666666666666,
          224.91666666666666,
          237.83333333333334
         ]
        },
        {
         "line": {
          "width": 2
         },
         "mode": "lines+markers",
         "name": "Computer Science and Engineering (5 Years, Bachelor and Master of Technology (Dual Degree)) - Average Rank",
         "opacity": 0.8,
         "type": "scatter",
         "x": [
          2018,
          2019,
          2020,
          2021,
          2022,
          2023
         ],
         "y": [
          135,
          156,
          148.5,
          144.5,
          156.5,
          152.5
         ]
        },
        {
         "line": {
          "width": 2
         },
         "mode": "lines+markers",
         "name": "Mathematics and Computing (4 Years, Bachelor of Technology) - Average Rank",
         "opacity": 0.8,
         "type": "scatter",
         "x": [
          2018,
          2019,
          2020,
          2021,
          2022,
          2023
         ],
         "y": [
          672.6666666666666,
          576.1666666666666,
          602,
          643.8333333333334,
          661.1666666666666,
          721
         ]
        },
        {
         "line": {
          "width": 2
         },
         "mode": "lines+markers",
         "name": "Electrical Engineering (4 Years, Bachelor of Technology) - Average Rank",
         "opacity": 0.8,
         "type": "scatter",
         "x": [
          2018,
          2019,
          2020,
          2021,
          2022,
          2023
         ],
         "y": [
          606.2,
          612.8,
          679.5,
          797.5,
          860.6,
          781.3
         ]
        },
        {
         "line": {
          "width": 2
         },
         "mode": "lines+markers",
         "name": "Mathematics and Computing (5 Years, Bachelor and Master of Technology (Dual Degree)) - Average Rank",
         "opacity": 0.8,
         "type": "scatter",
         "x": [
          2018,
          2019,
          2020,
          2021,
          2022,
          2023
         ],
         "y": [
          379,
          310.5,
          363,
          351.5,
          357.5,
          393
         ]
        },
        {
         "line": {
          "width": 2
         },
         "mode": "lines+markers",
         "name": "Data Science and Artificial Intelligence (4 Years, Bachelor of Technology) - Average Rank",
         "opacity": 0.8,
         "type": "scatter",
         "x": [
          2021,
          2022,
          2023
         ],
         "y": [
          835,
          773.5,
          936.5
         ]
        },
        {
         "line": {
          "width": 2
         },
         "mode": "lines+markers",
         "name": "Electrical Engineering (Power and Automation) (4 Years, Bachelor of Technology) - Average Rank",
         "opacity": 0.8,
         "type": "scatter",
         "x": [
          2018,
          2019,
          2020,
          2021,
          2022,
          2023
         ],
         "y": [
          714.5,
          684,
          779,
          698.5,
          700,
          708.5
         ]
        },
        {
         "line": {
          "width": 2
         },
         "mode": "lines+markers",
         "name": "Artificial Intelligence (4 Years, Bachelor of Technology) - Average Rank",
         "opacity": 0.8,
         "type": "scatter",
         "x": [
          2019,
          2020,
          2021,
          2022,
          2023
         ],
         "y": [
          567.5,
          539.5,
          503,
          729.5,
          747
         ]
        },
        {
         "line": {
          "width": 2
         },
         "mode": "lines+markers",
         "name": "Electrical Engineering (5 Years, Bachelor and Master of Technology (Dual Degree)) - Average Rank",
         "opacity": 0.8,
         "type": "scatter",
         "x": [
          2018,
          2019,
          2020,
          2021,
          2022,
          2023
         ],
         "y": [
          807.5,
          439,
          531.5,
          645,
          620,
          772
         ]
        },
        {
         "line": {
          "width": 2
         },
         "mode": "lines+markers",
         "name": "Mathematics and Scientific Computing (4 Years, Bachelor of Science) - Average Rank",
         "opacity": 0.8,
         "type": "scatter",
         "x": [
          2018,
          2019,
          2020,
          2021,
          2022,
          2023
         ],
         "y": [
          616,
          747.5,
          677,
          683,
          876.5,
          839.5
         ]
        }
       ],
       "layout": {
        "hoverlabel": {
         "bgcolor": "white",
         "font": {
          "family": "Rockwell",
          "size": 16
         }
        },
        "hovermode": "closest",
        "legend": {
         "title": {
          "text": "Branches"
         }
        },
        "template": {
         "data": {
          "bar": [
           {
            "error_x": {
             "color": "#2a3f5f"
            },
            "error_y": {
             "color": "#2a3f5f"
            },
            "marker": {
             "line": {
              "color": "#E5ECF6",
              "width": 0.5
             },
             "pattern": {
              "fillmode": "overlay",
              "size": 10,
              "solidity": 0.2
             }
            },
            "type": "bar"
           }
          ],
          "barpolar": [
           {
            "marker": {
             "line": {
              "color": "#E5ECF6",
              "width": 0.5
             },
             "pattern": {
              "fillmode": "overlay",
              "size": 10,
              "solidity": 0.2
             }
            },
            "type": "barpolar"
           }
          ],
          "carpet": [
           {
            "aaxis": {
             "endlinecolor": "#2a3f5f",
             "gridcolor": "white",
             "linecolor": "white",
             "minorgridcolor": "white",
             "startlinecolor": "#2a3f5f"
            },
            "baxis": {
             "endlinecolor": "#2a3f5f",
             "gridcolor": "white",
             "linecolor": "white",
             "minorgridcolor": "white",
             "startlinecolor": "#2a3f5f"
            },
            "type": "carpet"
           }
          ],
          "choropleth": [
           {
            "colorbar": {
             "outlinewidth": 0,
             "ticks": ""
            },
            "type": "choropleth"
           }
          ],
          "contour": [
           {
            "colorbar": {
             "outlinewidth": 0,
             "ticks": ""
            },
            "colorscale": [
             [
              0,
              "#0d0887"
             ],
             [
              0.1111111111111111,
              "#46039f"
             ],
             [
              0.2222222222222222,
              "#7201a8"
             ],
             [
              0.3333333333333333,
              "#9c179e"
             ],
             [
              0.4444444444444444,
              "#bd3786"
             ],
             [
              0.5555555555555556,
              "#d8576b"
             ],
             [
              0.6666666666666666,
              "#ed7953"
             ],
             [
              0.7777777777777778,
              "#fb9f3a"
             ],
             [
              0.8888888888888888,
              "#fdca26"
             ],
             [
              1,
              "#f0f921"
             ]
            ],
            "type": "contour"
           }
          ],
          "contourcarpet": [
           {
            "colorbar": {
             "outlinewidth": 0,
             "ticks": ""
            },
            "type": "contourcarpet"
           }
          ],
          "heatmap": [
           {
            "colorbar": {
             "outlinewidth": 0,
             "ticks": ""
            },
            "colorscale": [
             [
              0,
              "#0d0887"
             ],
             [
              0.1111111111111111,
              "#46039f"
             ],
             [
              0.2222222222222222,
              "#7201a8"
             ],
             [
              0.3333333333333333,
              "#9c179e"
             ],
             [
              0.4444444444444444,
              "#bd3786"
             ],
             [
              0.5555555555555556,
              "#d8576b"
             ],
             [
              0.6666666666666666,
              "#ed7953"
             ],
             [
              0.7777777777777778,
              "#fb9f3a"
             ],
             [
              0.8888888888888888,
              "#fdca26"
             ],
             [
              1,
              "#f0f921"
             ]
            ],
            "type": "heatmap"
           }
          ],
          "heatmapgl": [
           {
            "colorbar": {
             "outlinewidth": 0,
             "ticks": ""
            },
            "colorscale": [
             [
              0,
              "#0d0887"
             ],
             [
              0.1111111111111111,
              "#46039f"
             ],
             [
              0.2222222222222222,
              "#7201a8"
             ],
             [
              0.3333333333333333,
              "#9c179e"
             ],
             [
              0.4444444444444444,
              "#bd3786"
             ],
             [
              0.5555555555555556,
              "#d8576b"
             ],
             [
              0.6666666666666666,
              "#ed7953"
             ],
             [
              0.7777777777777778,
              "#fb9f3a"
             ],
             [
              0.8888888888888888,
              "#fdca26"
             ],
             [
              1,
              "#f0f921"
             ]
            ],
            "type": "heatmapgl"
           }
          ],
          "histogram": [
           {
            "marker": {
             "pattern": {
              "fillmode": "overlay",
              "size": 10,
              "solidity": 0.2
             }
            },
            "type": "histogram"
           }
          ],
          "histogram2d": [
           {
            "colorbar": {
             "outlinewidth": 0,
             "ticks": ""
            },
            "colorscale": [
             [
              0,
              "#0d0887"
             ],
             [
              0.1111111111111111,
              "#46039f"
             ],
             [
              0.2222222222222222,
              "#7201a8"
             ],
             [
              0.3333333333333333,
              "#9c179e"
             ],
             [
              0.4444444444444444,
              "#bd3786"
             ],
             [
              0.5555555555555556,
              "#d8576b"
             ],
             [
              0.6666666666666666,
              "#ed7953"
             ],
             [
              0.7777777777777778,
              "#fb9f3a"
             ],
             [
              0.8888888888888888,
              "#fdca26"
             ],
             [
              1,
              "#f0f921"
             ]
            ],
            "type": "histogram2d"
           }
          ],
          "histogram2dcontour": [
           {
            "colorbar": {
             "outlinewidth": 0,
             "ticks": ""
            },
            "colorscale": [
             [
              0,
              "#0d0887"
             ],
             [
              0.1111111111111111,
              "#46039f"
             ],
             [
              0.2222222222222222,
              "#7201a8"
             ],
             [
              0.3333333333333333,
              "#9c179e"
             ],
             [
              0.4444444444444444,
              "#bd3786"
             ],
             [
              0.5555555555555556,
              "#d8576b"
             ],
             [
              0.6666666666666666,
              "#ed7953"
             ],
             [
              0.7777777777777778,
              "#fb9f3a"
             ],
             [
              0.8888888888888888,
              "#fdca26"
             ],
             [
              1,
              "#f0f921"
             ]
            ],
            "type": "histogram2dcontour"
           }
          ],
          "mesh3d": [
           {
            "colorbar": {
             "outlinewidth": 0,
             "ticks": ""
            },
            "type": "mesh3d"
           }
          ],
          "parcoords": [
           {
            "line": {
             "colorbar": {
              "outlinewidth": 0,
              "ticks": ""
             }
            },
            "type": "parcoords"
           }
          ],
          "pie": [
           {
            "automargin": true,
            "type": "pie"
           }
          ],
          "scatter": [
           {
            "fillpattern": {
             "fillmode": "overlay",
             "size": 10,
             "solidity": 0.2
            },
            "type": "scatter"
           }
          ],
          "scatter3d": [
           {
            "line": {
             "colorbar": {
              "outlinewidth": 0,
              "ticks": ""
             }
            },
            "marker": {
             "colorbar": {
              "outlinewidth": 0,
              "ticks": ""
             }
            },
            "type": "scatter3d"
           }
          ],
          "scattercarpet": [
           {
            "marker": {
             "colorbar": {
              "outlinewidth": 0,
              "ticks": ""
             }
            },
            "type": "scattercarpet"
           }
          ],
          "scattergeo": [
           {
            "marker": {
             "colorbar": {
              "outlinewidth": 0,
              "ticks": ""
             }
            },
            "type": "scattergeo"
           }
          ],
          "scattergl": [
           {
            "marker": {
             "colorbar": {
              "outlinewidth": 0,
              "ticks": ""
             }
            },
            "type": "scattergl"
           }
          ],
          "scattermapbox": [
           {
            "marker": {
             "colorbar": {
              "outlinewidth": 0,
              "ticks": ""
             }
            },
            "type": "scattermapbox"
           }
          ],
          "scatterpolar": [
           {
            "marker": {
             "colorbar": {
              "outlinewidth": 0,
              "ticks": ""
             }
            },
            "type": "scatterpolar"
           }
          ],
          "scatterpolargl": [
           {
            "marker": {
             "colorbar": {
              "outlinewidth": 0,
              "ticks": ""
             }
            },
            "type": "scatterpolargl"
           }
          ],
          "scatterternary": [
           {
            "marker": {
             "colorbar": {
              "outlinewidth": 0,
              "ticks": ""
             }
            },
            "type": "scatterternary"
           }
          ],
          "surface": [
           {
            "colorbar": {
             "outlinewidth": 0,
             "ticks": ""
            },
            "colorscale": [
             [
              0,
              "#0d0887"
             ],
             [
              0.1111111111111111,
              "#46039f"
             ],
             [
              0.2222222222222222,
              "#7201a8"
             ],
             [
              0.3333333333333333,
              "#9c179e"
             ],
             [
              0.4444444444444444,
              "#bd3786"
             ],
             [
              0.5555555555555556,
              "#d8576b"
             ],
             [
              0.6666666666666666,
              "#ed7953"
             ],
             [
              0.7777777777777778,
              "#fb9f3a"
             ],
             [
              0.8888888888888888,
              "#fdca26"
             ],
             [
              1,
              "#f0f921"
             ]
            ],
            "type": "surface"
           }
          ],
          "table": [
           {
            "cells": {
             "fill": {
              "color": "#EBF0F8"
             },
             "line": {
              "color": "white"
             }
            },
            "header": {
             "fill": {
              "color": "#C8D4E3"
             },
             "line": {
              "color": "white"
             }
            },
            "type": "table"
           }
          ]
         },
         "layout": {
          "annotationdefaults": {
           "arrowcolor": "#2a3f5f",
           "arrowhead": 0,
           "arrowwidth": 1
          },
          "autotypenumbers": "strict",
          "coloraxis": {
           "colorbar": {
            "outlinewidth": 0,
            "ticks": ""
           }
          },
          "colorscale": {
           "diverging": [
            [
             0,
             "#8e0152"
            ],
            [
             0.1,
             "#c51b7d"
            ],
            [
             0.2,
             "#de77ae"
            ],
            [
             0.3,
             "#f1b6da"
            ],
            [
             0.4,
             "#fde0ef"
            ],
            [
             0.5,
             "#f7f7f7"
            ],
            [
             0.6,
             "#e6f5d0"
            ],
            [
             0.7,
             "#b8e186"
            ],
            [
             0.8,
             "#7fbc41"
            ],
            [
             0.9,
             "#4d9221"
            ],
            [
             1,
             "#276419"
            ]
           ],
           "sequential": [
            [
             0,
             "#0d0887"
            ],
            [
             0.1111111111111111,
             "#46039f"
            ],
            [
             0.2222222222222222,
             "#7201a8"
            ],
            [
             0.3333333333333333,
             "#9c179e"
            ],
            [
             0.4444444444444444,
             "#bd3786"
            ],
            [
             0.5555555555555556,
             "#d8576b"
            ],
            [
             0.6666666666666666,
             "#ed7953"
            ],
            [
             0.7777777777777778,
             "#fb9f3a"
            ],
            [
             0.8888888888888888,
             "#fdca26"
            ],
            [
             1,
             "#f0f921"
            ]
           ],
           "sequentialminus": [
            [
             0,
             "#0d0887"
            ],
            [
             0.1111111111111111,
             "#46039f"
            ],
            [
             0.2222222222222222,
             "#7201a8"
            ],
            [
             0.3333333333333333,
             "#9c179e"
            ],
            [
             0.4444444444444444,
             "#bd3786"
            ],
            [
             0.5555555555555556,
             "#d8576b"
            ],
            [
             0.6666666666666666,
             "#ed7953"
            ],
            [
             0.7777777777777778,
             "#fb9f3a"
            ],
            [
             0.8888888888888888,
             "#fdca26"
            ],
            [
             1,
             "#f0f921"
            ]
           ]
          },
          "colorway": [
           "#636efa",
           "#EF553B",
           "#00cc96",
           "#ab63fa",
           "#FFA15A",
           "#19d3f3",
           "#FF6692",
           "#B6E880",
           "#FF97FF",
           "#FECB52"
          ],
          "font": {
           "color": "#2a3f5f"
          },
          "geo": {
           "bgcolor": "white",
           "lakecolor": "white",
           "landcolor": "#E5ECF6",
           "showlakes": true,
           "showland": true,
           "subunitcolor": "white"
          },
          "hoverlabel": {
           "align": "left"
          },
          "hovermode": "closest",
          "mapbox": {
           "style": "light"
          },
          "paper_bgcolor": "white",
          "plot_bgcolor": "#E5ECF6",
          "polar": {
           "angularaxis": {
            "gridcolor": "white",
            "linecolor": "white",
            "ticks": ""
           },
           "bgcolor": "#E5ECF6",
           "radialaxis": {
            "gridcolor": "white",
            "linecolor": "white",
            "ticks": ""
           }
          },
          "scene": {
           "xaxis": {
            "backgroundcolor": "#E5ECF6",
            "gridcolor": "white",
            "gridwidth": 2,
            "linecolor": "white",
            "showbackground": true,
            "ticks": "",
            "zerolinecolor": "white"
           },
           "yaxis": {
            "backgroundcolor": "#E5ECF6",
            "gridcolor": "white",
            "gridwidth": 2,
            "linecolor": "white",
            "showbackground": true,
            "ticks": "",
            "zerolinecolor": "white"
           },
           "zaxis": {
            "backgroundcolor": "#E5ECF6",
            "gridcolor": "white",
            "gridwidth": 2,
            "linecolor": "white",
            "showbackground": true,
            "ticks": "",
            "zerolinecolor": "white"
           }
          },
          "shapedefaults": {
           "line": {
            "color": "#2a3f5f"
           }
          },
          "ternary": {
           "aaxis": {
            "gridcolor": "white",
            "linecolor": "white",
            "ticks": ""
           },
           "baxis": {
            "gridcolor": "white",
            "linecolor": "white",
            "ticks": ""
           },
           "bgcolor": "#E5ECF6",
           "caxis": {
            "gridcolor": "white",
            "linecolor": "white",
            "ticks": ""
           }
          },
          "title": {
           "x": 0.05
          },
          "xaxis": {
           "automargin": true,
           "gridcolor": "white",
           "linecolor": "white",
           "ticks": "",
           "title": {
            "standoff": 15
           },
           "zerolinecolor": "white",
           "zerolinewidth": 2
          },
          "yaxis": {
           "automargin": true,
           "gridcolor": "white",
           "linecolor": "white",
           "ticks": "",
           "title": {
            "standoff": 15
           },
           "zerolinecolor": "white",
           "zerolinewidth": 2
          }
         }
        },
        "title": {
         "text": "Trend of Average Ranks Over Years for Top Branches"
        },
        "updatemenus": [
         {
          "buttons": [
           {
            "args": [
             "mode",
             "lines+markers"
            ],
            "label": "Show All",
            "method": "restyle"
           }
          ],
          "direction": "down",
          "showactive": true
         }
        ],
        "xaxis": {
         "title": {
          "text": "Year"
         }
        },
        "yaxis": {
         "autorange": "reversed",
         "title": {
          "text": "Average Rank"
         }
        }
       }
      }
     },
     "metadata": {},
     "output_type": "display_data"
    },
    {
     "data": {
      "text/html": [
       "\n",
       "<script>\n",
       "    var myPlot = document.getElementsByClassName('plotly-graph-div')[0];\n",
       "\n",
       "    myPlot.on('plotly_hover', function(data){\n",
       "        var index = data.points[0].curveNumber;\n",
       "        Plotly.restyle(myPlot, 'opacity', Array.from({length: data.points.length}, (_, i) => i === index ? 1 : 0.2));\n",
       "    });\n",
       "\n",
       "    myPlot.on('plotly_unhover', function(data){\n",
       "        Plotly.restyle(myPlot, 'opacity', 0.2);\n",
       "    });\n",
       "</script>\n"
      ],
      "text/plain": [
       "<IPython.core.display.HTML object>"
      ]
     },
     "metadata": {},
     "output_type": "display_data"
    }
   ],
   "source": [
    "##2 Popular Branches\n",
    "import pandas as pd\n",
    "from plotly.subplots import make_subplots\n",
    "import plotly.graph_objects as go\n",
    "import plotly.express as px\n",
    "\n",
    "# Load the dataset\n",
    "df = pd.read_csv('combined2.csv')\n",
    "\n",
    "# Ensure the relevant columns are present and convert ranks to numeric\n",
    "df['Opening Rank'] = pd.to_numeric(df['Opening Rank'], errors='coerce')\n",
    "df['Closing Rank'] = pd.to_numeric(df['Closing Rank'], errors='coerce')\n",
    "\n",
    "# Drop rows with NaN values in 'Opening Rank' or 'Closing Rank'\n",
    "df.dropna(subset=['Opening Rank', 'Closing Rank'], inplace=True)\n",
    "\n",
    "# Calculate the rank difference and average rank\n",
    "df['Rank Difference'] = df['Closing Rank'] - df['Opening Rank']\n",
    "df['Average Rank'] = (df['Closing Rank'] + df['Opening Rank']) / 2\n",
    "\n",
    "# Filter the dataset based on specific conditions\n",
    "df_filtered = df.loc[(df['Gender'] == 'Gender-Neutral') & (df['Quota'] == 'AI') & \n",
    "                     (df['Seat Type'] == 'OPEN') & (df['Round'] == 6) & \n",
    "                     (df['Year'] == 2023) &\n",
    "                     (~df['Institute'].str.contains('Architecture', na=False)) & \n",
    "                     (~df['Academic Program Name'].str.contains('Architecture', na=False))]\n",
    "\n",
    "# Sort by Year (descending), then by Average Rank and Rank Difference (ascending)\n",
    "sorted_by_popularity = df_filtered.sort_values(by=['Average Rank', 'Rank Difference'])\n",
    "\n",
    "# Drop duplicates based on 'Academic Program Name' to get unique branches\n",
    "df_unique_branches = sorted_by_popularity.drop_duplicates(subset='Academic Program Name', keep='first')\n",
    "\n",
    "# Select the top 10 branches based on the sorted order\n",
    "top_10 = df_unique_branches.head(10)\n",
    "\n",
    "# Display the top 10 most popular branches\n",
    "print(\"Top 10 Most Popular Branches Based on Rank Difference:\")\n",
    "print(top_10['Academic Program Name'])\n",
    "\n",
    "fig = px.bar(\n",
    "    top_10,\n",
    "    x='Average Rank',\n",
    "    y='Academic Program Name',\n",
    "    orientation='h',\n",
    "    title='Average Rank of Top 10 Different Branches',\n",
    "    labels={'Average Rank': 'Average Rank', 'Academic Program Name': 'Academic Program Name'},\n",
    "    color='Average Rank',\n",
    "    color_continuous_scale=px.colors.sequential.Blues\n",
    ")\n",
    "fig.update_layout(xaxis_title='Average Rank', yaxis_title='Academic Program Name', yaxis={'categoryorder':'total ascending'})\n",
    "fig.show()\n",
    "\n",
    "# If the data includes multiple years, perform trend analysis\n",
    "top_institutes = df.loc[df['Year'] == 2023].groupby('Institute')['Average Rank'].mean().nsmallest(10).index.tolist()\n",
    "df_filtered_all_years = df.loc[(df['Gender'] == 'Gender-Neutral') & (df['Quota'] == 'AI') & \n",
    "                               (df['Seat Type'] == 'OPEN') & (df['Round'] == 6) & \n",
    "                               (df['Institute'].isin(top_institutes)) & \n",
    "                               (df['Year'] >= 2016) & (df['Year'] <= 2023) &\n",
    "                               (~df['Institute'].str.contains('Architecture', na=False)) & \n",
    "                               (~df['Academic Program Name'].str.contains('Architecture', na=False))]\n",
    "\n",
    "if 'Year' in df.columns:\n",
    "    trend_data = df_filtered_all_years[df_filtered_all_years['Academic Program Name'].isin(top_10['Academic Program Name'])]\n",
    "    \n",
    "    # Aggregate data to get average rank per year for each branch\n",
    "    trend_data = trend_data.groupby(['Year', 'Academic Program Name']).agg({\n",
    "        'Average Rank': 'mean'\n",
    "    }).reset_index()\n",
    "\n",
    "    # Create the figure for trend analysis using Plotly\n",
    "    fig = go.Figure()\n",
    "\n",
    "    for branch in top_10['Academic Program Name']:\n",
    "        branch_data = trend_data[trend_data['Academic Program Name'] == branch]\n",
    "        fig.add_trace(go.Scatter(\n",
    "            x=branch_data['Year'],\n",
    "            y=branch_data['Average Rank'],\n",
    "            mode='lines+markers',\n",
    "            name=f'{branch} - Average Rank',\n",
    "            line=dict(width=2),  # Default line width\n",
    "            opacity=0.8 # Default opacity\n",
    "        ))\n",
    "\n",
    "    fig.update_layout(\n",
    "        title='Trend of Average Ranks Over Years for Top Branches',\n",
    "        xaxis_title='Year',\n",
    "        yaxis_title='Average Rank',\n",
    "        yaxis_autorange='reversed',\n",
    "        legend_title='Branches',\n",
    "        hovermode='closest'\n",
    "    )\n",
    "\n",
    "    # Add custom hover effect to highlight only the hovered trace\n",
    "    fig.update_layout(\n",
    "        updatemenus=[{\n",
    "            \"buttons\": [\n",
    "                {\n",
    "                    \"args\": [\"mode\", \"lines+markers\"],\n",
    "                    \"label\": \"Show All\",\n",
    "                    \"method\": \"restyle\"\n",
    "                }\n",
    "            ],\n",
    "            \"direction\": \"down\",\n",
    "            \"showactive\": True\n",
    "        }]\n",
    "    )\n",
    "\n",
    "    fig.update_layout(\n",
    "        hoverlabel=dict(\n",
    "            bgcolor=\"white\",\n",
    "            font_size=16,\n",
    "            font_family=\"Rockwell\"\n",
    "        )\n",
    "    )\n",
    "\n",
    "    fig.show()\n",
    "\n",
    "# JavaScript for hover functionality\n",
    "from IPython.display import display, HTML\n",
    "\n",
    "hover_js = \"\"\"\n",
    "<script>\n",
    "    var myPlot = document.getElementsByClassName('plotly-graph-div')[0];\n",
    "\n",
    "    myPlot.on('plotly_hover', function(data){\n",
    "        var index = data.points[0].curveNumber;\n",
    "        Plotly.restyle(myPlot, 'opacity', Array.from({length: data.points.length}, (_, i) => i === index ? 1 : 0.2));\n",
    "    });\n",
    "\n",
    "    myPlot.on('plotly_unhover', function(data){\n",
    "        Plotly.restyle(myPlot, 'opacity', 0.2);\n",
    "    });\n",
    "</script>\n",
    "\"\"\"\n",
    "\n",
    "display(HTML(hover_js))\n"
   ]
  },
  {
   "cell_type": "code",
   "execution_count": 31,
   "metadata": {},
   "outputs": [
    {
     "name": "stderr",
     "output_type": "stream",
     "text": [
      "C:\\Users\\91934\\AppData\\Local\\Temp\\ipykernel_30452\\3547850700.py:6: DtypeWarning:\n",
      "\n",
      "Columns (6,7) have mixed types. Specify dtype option on import or set low_memory=False.\n",
      "\n",
      "C:\\Users\\91934\\AppData\\Local\\Temp\\ipykernel_30452\\3547850700.py:26: SettingWithCopyWarning:\n",
      "\n",
      "\n",
      "A value is trying to be set on a copy of a slice from a DataFrame.\n",
      "Try using .loc[row_indexer,col_indexer] = value instead\n",
      "\n",
      "See the caveats in the documentation: https://pandas.pydata.org/pandas-docs/stable/user_guide/indexing.html#returning-a-view-versus-a-copy\n",
      "\n"
     ]
    },
    {
     "data": {
      "application/vnd.plotly.v1+json": {
       "config": {
        "plotlyServerURL": "https://plot.ly"
       },
       "data": [
        {
         "alignmentgroup": "True",
         "hovertemplate": "Average Rank=%{marker.color}<br>Academic Program Name=%{y}<extra></extra>",
         "legendgroup": "",
         "marker": {
          "color": [
           34,
           152.5,
           243.5,
           311.5,
           393,
           628.5,
           708.5,
           747,
           772,
           839.5
          ],
          "coloraxis": "coloraxis",
          "pattern": {
           "shape": ""
          }
         },
         "name": "",
         "offsetgroup": "",
         "orientation": "h",
         "showlegend": false,
         "textposition": "auto",
         "type": "bar",
         "x": [
          34,
          152.5,
          243.5,
          311.5,
          393,
          628.5,
          708.5,
          747,
          772,
          839.5
         ],
         "xaxis": "x",
         "y": [
          "Computer Science and Engineering (4 Years, Bachelor of Technology)",
          "Computer Science and Engineering (5 Years, Bachelor and Master of Technology (Dual Degree))",
          "Mathematics and Computing (4 Years, Bachelor of Technology)",
          "Electrical Engineering (4 Years, Bachelor of Technology)",
          "Mathematics and Computing (5 Years, Bachelor and Master of Technology (Dual Degree))",
          "Data Science and Artificial Intelligence (4 Years, Bachelor of Technology)",
          "Electrical Engineering (Power and Automation) (4 Years, Bachelor of Technology)",
          "Artificial Intelligence (4 Years, Bachelor of Technology)",
          "Electrical Engineering (5 Years, Bachelor and Master of Technology (Dual Degree))",
          "Mathematics and Scientific Computing (4 Years, Bachelor of Science)"
         ],
         "yaxis": "y"
        }
       ],
       "layout": {
        "barmode": "relative",
        "coloraxis": {
         "colorbar": {
          "title": {
           "text": "Average Rank"
          }
         },
         "colorscale": [
          [
           0,
           "rgb(247,251,255)"
          ],
          [
           0.125,
           "rgb(222,235,247)"
          ],
          [
           0.25,
           "rgb(198,219,239)"
          ],
          [
           0.375,
           "rgb(158,202,225)"
          ],
          [
           0.5,
           "rgb(107,174,214)"
          ],
          [
           0.625,
           "rgb(66,146,198)"
          ],
          [
           0.75,
           "rgb(33,113,181)"
          ],
          [
           0.875,
           "rgb(8,81,156)"
          ],
          [
           1,
           "rgb(8,48,107)"
          ]
         ]
        },
        "legend": {
         "tracegroupgap": 0
        },
        "template": {
         "data": {
          "bar": [
           {
            "error_x": {
             "color": "#2a3f5f"
            },
            "error_y": {
             "color": "#2a3f5f"
            },
            "marker": {
             "line": {
              "color": "#E5ECF6",
              "width": 0.5
             },
             "pattern": {
              "fillmode": "overlay",
              "size": 10,
              "solidity": 0.2
             }
            },
            "type": "bar"
           }
          ],
          "barpolar": [
           {
            "marker": {
             "line": {
              "color": "#E5ECF6",
              "width": 0.5
             },
             "pattern": {
              "fillmode": "overlay",
              "size": 10,
              "solidity": 0.2
             }
            },
            "type": "barpolar"
           }
          ],
          "carpet": [
           {
            "aaxis": {
             "endlinecolor": "#2a3f5f",
             "gridcolor": "white",
             "linecolor": "white",
             "minorgridcolor": "white",
             "startlinecolor": "#2a3f5f"
            },
            "baxis": {
             "endlinecolor": "#2a3f5f",
             "gridcolor": "white",
             "linecolor": "white",
             "minorgridcolor": "white",
             "startlinecolor": "#2a3f5f"
            },
            "type": "carpet"
           }
          ],
          "choropleth": [
           {
            "colorbar": {
             "outlinewidth": 0,
             "ticks": ""
            },
            "type": "choropleth"
           }
          ],
          "contour": [
           {
            "colorbar": {
             "outlinewidth": 0,
             "ticks": ""
            },
            "colorscale": [
             [
              0,
              "#0d0887"
             ],
             [
              0.1111111111111111,
              "#46039f"
             ],
             [
              0.2222222222222222,
              "#7201a8"
             ],
             [
              0.3333333333333333,
              "#9c179e"
             ],
             [
              0.4444444444444444,
              "#bd3786"
             ],
             [
              0.5555555555555556,
              "#d8576b"
             ],
             [
              0.6666666666666666,
              "#ed7953"
             ],
             [
              0.7777777777777778,
              "#fb9f3a"
             ],
             [
              0.8888888888888888,
              "#fdca26"
             ],
             [
              1,
              "#f0f921"
             ]
            ],
            "type": "contour"
           }
          ],
          "contourcarpet": [
           {
            "colorbar": {
             "outlinewidth": 0,
             "ticks": ""
            },
            "type": "contourcarpet"
           }
          ],
          "heatmap": [
           {
            "colorbar": {
             "outlinewidth": 0,
             "ticks": ""
            },
            "colorscale": [
             [
              0,
              "#0d0887"
             ],
             [
              0.1111111111111111,
              "#46039f"
             ],
             [
              0.2222222222222222,
              "#7201a8"
             ],
             [
              0.3333333333333333,
              "#9c179e"
             ],
             [
              0.4444444444444444,
              "#bd3786"
             ],
             [
              0.5555555555555556,
              "#d8576b"
             ],
             [
              0.6666666666666666,
              "#ed7953"
             ],
             [
              0.7777777777777778,
              "#fb9f3a"
             ],
             [
              0.8888888888888888,
              "#fdca26"
             ],
             [
              1,
              "#f0f921"
             ]
            ],
            "type": "heatmap"
           }
          ],
          "heatmapgl": [
           {
            "colorbar": {
             "outlinewidth": 0,
             "ticks": ""
            },
            "colorscale": [
             [
              0,
              "#0d0887"
             ],
             [
              0.1111111111111111,
              "#46039f"
             ],
             [
              0.2222222222222222,
              "#7201a8"
             ],
             [
              0.3333333333333333,
              "#9c179e"
             ],
             [
              0.4444444444444444,
              "#bd3786"
             ],
             [
              0.5555555555555556,
              "#d8576b"
             ],
             [
              0.6666666666666666,
              "#ed7953"
             ],
             [
              0.7777777777777778,
              "#fb9f3a"
             ],
             [
              0.8888888888888888,
              "#fdca26"
             ],
             [
              1,
              "#f0f921"
             ]
            ],
            "type": "heatmapgl"
           }
          ],
          "histogram": [
           {
            "marker": {
             "pattern": {
              "fillmode": "overlay",
              "size": 10,
              "solidity": 0.2
             }
            },
            "type": "histogram"
           }
          ],
          "histogram2d": [
           {
            "colorbar": {
             "outlinewidth": 0,
             "ticks": ""
            },
            "colorscale": [
             [
              0,
              "#0d0887"
             ],
             [
              0.1111111111111111,
              "#46039f"
             ],
             [
              0.2222222222222222,
              "#7201a8"
             ],
             [
              0.3333333333333333,
              "#9c179e"
             ],
             [
              0.4444444444444444,
              "#bd3786"
             ],
             [
              0.5555555555555556,
              "#d8576b"
             ],
             [
              0.6666666666666666,
              "#ed7953"
             ],
             [
              0.7777777777777778,
              "#fb9f3a"
             ],
             [
              0.8888888888888888,
              "#fdca26"
             ],
             [
              1,
              "#f0f921"
             ]
            ],
            "type": "histogram2d"
           }
          ],
          "histogram2dcontour": [
           {
            "colorbar": {
             "outlinewidth": 0,
             "ticks": ""
            },
            "colorscale": [
             [
              0,
              "#0d0887"
             ],
             [
              0.1111111111111111,
              "#46039f"
             ],
             [
              0.2222222222222222,
              "#7201a8"
             ],
             [
              0.3333333333333333,
              "#9c179e"
             ],
             [
              0.4444444444444444,
              "#bd3786"
             ],
             [
              0.5555555555555556,
              "#d8576b"
             ],
             [
              0.6666666666666666,
              "#ed7953"
             ],
             [
              0.7777777777777778,
              "#fb9f3a"
             ],
             [
              0.8888888888888888,
              "#fdca26"
             ],
             [
              1,
              "#f0f921"
             ]
            ],
            "type": "histogram2dcontour"
           }
          ],
          "mesh3d": [
           {
            "colorbar": {
             "outlinewidth": 0,
             "ticks": ""
            },
            "type": "mesh3d"
           }
          ],
          "parcoords": [
           {
            "line": {
             "colorbar": {
              "outlinewidth": 0,
              "ticks": ""
             }
            },
            "type": "parcoords"
           }
          ],
          "pie": [
           {
            "automargin": true,
            "type": "pie"
           }
          ],
          "scatter": [
           {
            "fillpattern": {
             "fillmode": "overlay",
             "size": 10,
             "solidity": 0.2
            },
            "type": "scatter"
           }
          ],
          "scatter3d": [
           {
            "line": {
             "colorbar": {
              "outlinewidth": 0,
              "ticks": ""
             }
            },
            "marker": {
             "colorbar": {
              "outlinewidth": 0,
              "ticks": ""
             }
            },
            "type": "scatter3d"
           }
          ],
          "scattercarpet": [
           {
            "marker": {
             "colorbar": {
              "outlinewidth": 0,
              "ticks": ""
             }
            },
            "type": "scattercarpet"
           }
          ],
          "scattergeo": [
           {
            "marker": {
             "colorbar": {
              "outlinewidth": 0,
              "ticks": ""
             }
            },
            "type": "scattergeo"
           }
          ],
          "scattergl": [
           {
            "marker": {
             "colorbar": {
              "outlinewidth": 0,
              "ticks": ""
             }
            },
            "type": "scattergl"
           }
          ],
          "scattermapbox": [
           {
            "marker": {
             "colorbar": {
              "outlinewidth": 0,
              "ticks": ""
             }
            },
            "type": "scattermapbox"
           }
          ],
          "scatterpolar": [
           {
            "marker": {
             "colorbar": {
              "outlinewidth": 0,
              "ticks": ""
             }
            },
            "type": "scatterpolar"
           }
          ],
          "scatterpolargl": [
           {
            "marker": {
             "colorbar": {
              "outlinewidth": 0,
              "ticks": ""
             }
            },
            "type": "scatterpolargl"
           }
          ],
          "scatterternary": [
           {
            "marker": {
             "colorbar": {
              "outlinewidth": 0,
              "ticks": ""
             }
            },
            "type": "scatterternary"
           }
          ],
          "surface": [
           {
            "colorbar": {
             "outlinewidth": 0,
             "ticks": ""
            },
            "colorscale": [
             [
              0,
              "#0d0887"
             ],
             [
              0.1111111111111111,
              "#46039f"
             ],
             [
              0.2222222222222222,
              "#7201a8"
             ],
             [
              0.3333333333333333,
              "#9c179e"
             ],
             [
              0.4444444444444444,
              "#bd3786"
             ],
             [
              0.5555555555555556,
              "#d8576b"
             ],
             [
              0.6666666666666666,
              "#ed7953"
             ],
             [
              0.7777777777777778,
              "#fb9f3a"
             ],
             [
              0.8888888888888888,
              "#fdca26"
             ],
             [
              1,
              "#f0f921"
             ]
            ],
            "type": "surface"
           }
          ],
          "table": [
           {
            "cells": {
             "fill": {
              "color": "#EBF0F8"
             },
             "line": {
              "color": "white"
             }
            },
            "header": {
             "fill": {
              "color": "#C8D4E3"
             },
             "line": {
              "color": "white"
             }
            },
            "type": "table"
           }
          ]
         },
         "layout": {
          "annotationdefaults": {
           "arrowcolor": "#2a3f5f",
           "arrowhead": 0,
           "arrowwidth": 1
          },
          "autotypenumbers": "strict",
          "coloraxis": {
           "colorbar": {
            "outlinewidth": 0,
            "ticks": ""
           }
          },
          "colorscale": {
           "diverging": [
            [
             0,
             "#8e0152"
            ],
            [
             0.1,
             "#c51b7d"
            ],
            [
             0.2,
             "#de77ae"
            ],
            [
             0.3,
             "#f1b6da"
            ],
            [
             0.4,
             "#fde0ef"
            ],
            [
             0.5,
             "#f7f7f7"
            ],
            [
             0.6,
             "#e6f5d0"
            ],
            [
             0.7,
             "#b8e186"
            ],
            [
             0.8,
             "#7fbc41"
            ],
            [
             0.9,
             "#4d9221"
            ],
            [
             1,
             "#276419"
            ]
           ],
           "sequential": [
            [
             0,
             "#0d0887"
            ],
            [
             0.1111111111111111,
             "#46039f"
            ],
            [
             0.2222222222222222,
             "#7201a8"
            ],
            [
             0.3333333333333333,
             "#9c179e"
            ],
            [
             0.4444444444444444,
             "#bd3786"
            ],
            [
             0.5555555555555556,
             "#d8576b"
            ],
            [
             0.6666666666666666,
             "#ed7953"
            ],
            [
             0.7777777777777778,
             "#fb9f3a"
            ],
            [
             0.8888888888888888,
             "#fdca26"
            ],
            [
             1,
             "#f0f921"
            ]
           ],
           "sequentialminus": [
            [
             0,
             "#0d0887"
            ],
            [
             0.1111111111111111,
             "#46039f"
            ],
            [
             0.2222222222222222,
             "#7201a8"
            ],
            [
             0.3333333333333333,
             "#9c179e"
            ],
            [
             0.4444444444444444,
             "#bd3786"
            ],
            [
             0.5555555555555556,
             "#d8576b"
            ],
            [
             0.6666666666666666,
             "#ed7953"
            ],
            [
             0.7777777777777778,
             "#fb9f3a"
            ],
            [
             0.8888888888888888,
             "#fdca26"
            ],
            [
             1,
             "#f0f921"
            ]
           ]
          },
          "colorway": [
           "#636efa",
           "#EF553B",
           "#00cc96",
           "#ab63fa",
           "#FFA15A",
           "#19d3f3",
           "#FF6692",
           "#B6E880",
           "#FF97FF",
           "#FECB52"
          ],
          "font": {
           "color": "#2a3f5f"
          },
          "geo": {
           "bgcolor": "white",
           "lakecolor": "white",
           "landcolor": "#E5ECF6",
           "showlakes": true,
           "showland": true,
           "subunitcolor": "white"
          },
          "hoverlabel": {
           "align": "left"
          },
          "hovermode": "closest",
          "mapbox": {
           "style": "light"
          },
          "paper_bgcolor": "white",
          "plot_bgcolor": "#E5ECF6",
          "polar": {
           "angularaxis": {
            "gridcolor": "white",
            "linecolor": "white",
            "ticks": ""
           },
           "bgcolor": "#E5ECF6",
           "radialaxis": {
            "gridcolor": "white",
            "linecolor": "white",
            "ticks": ""
           }
          },
          "scene": {
           "xaxis": {
            "backgroundcolor": "#E5ECF6",
            "gridcolor": "white",
            "gridwidth": 2,
            "linecolor": "white",
            "showbackground": true,
            "ticks": "",
            "zerolinecolor": "white"
           },
           "yaxis": {
            "backgroundcolor": "#E5ECF6",
            "gridcolor": "white",
            "gridwidth": 2,
            "linecolor": "white",
            "showbackground": true,
            "ticks": "",
            "zerolinecolor": "white"
           },
           "zaxis": {
            "backgroundcolor": "#E5ECF6",
            "gridcolor": "white",
            "gridwidth": 2,
            "linecolor": "white",
            "showbackground": true,
            "ticks": "",
            "zerolinecolor": "white"
           }
          },
          "shapedefaults": {
           "line": {
            "color": "#2a3f5f"
           }
          },
          "ternary": {
           "aaxis": {
            "gridcolor": "white",
            "linecolor": "white",
            "ticks": ""
           },
           "baxis": {
            "gridcolor": "white",
            "linecolor": "white",
            "ticks": ""
           },
           "bgcolor": "#E5ECF6",
           "caxis": {
            "gridcolor": "white",
            "linecolor": "white",
            "ticks": ""
           }
          },
          "title": {
           "x": 0.05
          },
          "xaxis": {
           "automargin": true,
           "gridcolor": "white",
           "linecolor": "white",
           "ticks": "",
           "title": {
            "standoff": 15
           },
           "zerolinecolor": "white",
           "zerolinewidth": 2
          },
          "yaxis": {
           "automargin": true,
           "gridcolor": "white",
           "linecolor": "white",
           "ticks": "",
           "title": {
            "standoff": 15
           },
           "zerolinecolor": "white",
           "zerolinewidth": 2
          }
         }
        },
        "title": {
         "text": "Average Rank of Top 10 Different Branches in Indian Institute  of Technology Guwahati"
        },
        "xaxis": {
         "anchor": "y",
         "domain": [
          0,
          1
         ],
         "title": {
          "text": "Average Rank"
         }
        },
        "yaxis": {
         "anchor": "x",
         "categoryorder": "total ascending",
         "domain": [
          0,
          1
         ],
         "title": {
          "text": "Academic Program Name"
         }
        }
       }
      }
     },
     "metadata": {},
     "output_type": "display_data"
    }
   ],
   "source": [
    "##3 college-wise branch popularity\n",
    "import pandas as pd\n",
    "import plotly.express as px\n",
    "\n",
    "# Load the dataset\n",
    "df = pd.read_csv('combined2.csv')\n",
    "\n",
    "# Ensure the relevant columns are present and convert ranks to numeric\n",
    "df['Opening Rank'] = pd.to_numeric(df['Opening Rank'], errors='coerce')\n",
    "df['Closing Rank'] = pd.to_numeric(df['Closing Rank'], errors='coerce')\n",
    "df.dropna(subset = 'Closing Rank',inplace=True)\n",
    "\n",
    "combined_2023 = df.loc[df.Year==2023]\n",
    "\n",
    "college_name = input(\"Enter the college name\")\n",
    "seatty = input(\"Enter Your seat type(OPEN,EWS,OBC-NCL,SC,ST,EWS (PwD),OBC-NCL (PwD),OPEN (PwD), SC (PwD), ST(PwD)):\")\n",
    "gender = input(\"Enter Your Gender(Male,Female):\")\n",
    "quota = input('Enter Your Quota(AI,OS,HS):')\n",
    "\n",
    "seatty = seatty.upper()\n",
    "quota = quota.upper()\n",
    "gender = gender.lower()\n",
    "gender_list = ['Female-only (including Supernumerary)'] if gender== 'female' else ['Gender-Neutral']\n",
    "\n",
    "college_data = combined_2023[(combined_2023.Institute == college_name) & (combined_2023['Seat Type'] == seatty) & (combined_2023['Gender'].isin(gender_list)) &  (combined_2023['Quota'] == quota)]\n",
    "college_data['Average Rank'] = (college_data['Opening Rank']+college_data['Closing Rank'])/2\n",
    "\n",
    "college_data = college_data[['Academic Program Name', 'Average Rank']]\n",
    "sorted_college_data = college_data.sort_values(by='Average Rank')\n",
    "sorted_college_data.head(10).reset_index(drop=True)\n",
    "\n",
    "fig = px.bar(\n",
    "    top_10,\n",
    "    x='Average Rank',\n",
    "    y='Academic Program Name',\n",
    "    orientation='h',\n",
    "    title=f'Average Rank of Top 10 Different Branches in {college_name}',\n",
    "    labels={'Average Rank': 'Average Rank', 'Academic Program Name': 'Academic Program Name'},\n",
    "    color='Average Rank',\n",
    "    color_continuous_scale=px.colors.sequential.Blues\n",
    ")\n",
    "fig.update_layout(xaxis_title='Average Rank', yaxis_title='Academic Program Name', yaxis={'categoryorder':'total ascending'})\n",
    "fig.show()\n"
   ]
  },
  {
   "cell_type": "code",
   "execution_count": 35,
   "metadata": {},
   "outputs": [
    {
     "name": "stderr",
     "output_type": "stream",
     "text": [
      "C:\\Users\\91934\\AppData\\Local\\Temp\\ipykernel_30452\\1135650399.py:6: DtypeWarning:\n",
      "\n",
      "Columns (6,7) have mixed types. Specify dtype option on import or set low_memory=False.\n",
      "\n",
      "C:\\Users\\91934\\AppData\\Local\\Temp\\ipykernel_30452\\1135650399.py:24: SettingWithCopyWarning:\n",
      "\n",
      "\n",
      "A value is trying to be set on a copy of a slice from a DataFrame.\n",
      "Try using .loc[row_indexer,col_indexer] = value instead\n",
      "\n",
      "See the caveats in the documentation: https://pandas.pydata.org/pandas-docs/stable/user_guide/indexing.html#returning-a-view-versus-a-copy\n",
      "\n"
     ]
    },
    {
     "data": {
      "application/vnd.plotly.v1+json": {
       "config": {
        "plotlyServerURL": "https://plot.ly"
       },
       "data": [
        {
         "alignmentgroup": "True",
         "hovertemplate": "Average Rank=%{marker.color}<br>Institute-Academic Program Name=%{y}<extra></extra>",
         "legendgroup": "",
         "marker": {
          "color": [
           2975.5,
           3030,
           3689.5,
           3692,
           4137.5,
           5743,
           6069,
           6227,
           7545,
           7812
          ],
          "coloraxis": "coloraxis",
          "pattern": {
           "shape": ""
          }
         },
         "name": "",
         "offsetgroup": "",
         "orientation": "h",
         "showlegend": false,
         "textposition": "auto",
         "type": "bar",
         "x": [
          2975.5,
          3030,
          3689.5,
          3692,
          4137.5,
          5743,
          6069,
          6227,
          7545,
          7812
         ],
         "xaxis": "x",
         "y": [
          "Indian Institute  of Technology Kharagpur - Mechanical Engineering (4 Years, Bachelor of Technology)",
          "Indian Institute  of Technology Roorkee - Mechanical Engineering (4 Years, Bachelor of Technology)",
          "Indian Institute  of Technology Hyderabad - Mechanical Engineering (4 Years, Bachelor of Technology)",
          "Indian Institute  of Technology Guwahati - Mechanical Engineering (4 Years, Bachelor of Technology)",
          "Indian Institute  of Technology Kharagpur - Mechanical Engineering with M.Tech. in any of the listed specializations (5 Years, Bachelor and Master of Technology (Dual Degree))",
          "Indian Institute  of Technology (BHU) Varanasi - Mechanical Engineering (4 Years, Bachelor of Technology)",
          "Indian Institute  of Technology Gandhinagar - Mechanical Engineering (4 Years, Bachelor of Technology)",
          "Indian Institute  of Technology Indore - Mechanical Engineering (4 Years, Bachelor of Technology)",
          "Indian Institute  of Technology (BHU) Varanasi - Mechanical Engineering (5 Years, Bachelor and Master of Technology (Dual Degree))",
          "Indian Institute  of Technology Gandhinagar - Mechanical Engineering (5 Years, Bachelor and Master of Technology (Dual Degree))"
         ],
         "yaxis": "y"
        }
       ],
       "layout": {
        "barmode": "relative",
        "coloraxis": {
         "colorbar": {
          "title": {
           "text": "Average Rank"
          }
         },
         "colorscale": [
          [
           0,
           "rgb(247,251,255)"
          ],
          [
           0.125,
           "rgb(222,235,247)"
          ],
          [
           0.25,
           "rgb(198,219,239)"
          ],
          [
           0.375,
           "rgb(158,202,225)"
          ],
          [
           0.5,
           "rgb(107,174,214)"
          ],
          [
           0.625,
           "rgb(66,146,198)"
          ],
          [
           0.75,
           "rgb(33,113,181)"
          ],
          [
           0.875,
           "rgb(8,81,156)"
          ],
          [
           1,
           "rgb(8,48,107)"
          ]
         ]
        },
        "legend": {
         "tracegroupgap": 0
        },
        "template": {
         "data": {
          "bar": [
           {
            "error_x": {
             "color": "#2a3f5f"
            },
            "error_y": {
             "color": "#2a3f5f"
            },
            "marker": {
             "line": {
              "color": "#E5ECF6",
              "width": 0.5
             },
             "pattern": {
              "fillmode": "overlay",
              "size": 10,
              "solidity": 0.2
             }
            },
            "type": "bar"
           }
          ],
          "barpolar": [
           {
            "marker": {
             "line": {
              "color": "#E5ECF6",
              "width": 0.5
             },
             "pattern": {
              "fillmode": "overlay",
              "size": 10,
              "solidity": 0.2
             }
            },
            "type": "barpolar"
           }
          ],
          "carpet": [
           {
            "aaxis": {
             "endlinecolor": "#2a3f5f",
             "gridcolor": "white",
             "linecolor": "white",
             "minorgridcolor": "white",
             "startlinecolor": "#2a3f5f"
            },
            "baxis": {
             "endlinecolor": "#2a3f5f",
             "gridcolor": "white",
             "linecolor": "white",
             "minorgridcolor": "white",
             "startlinecolor": "#2a3f5f"
            },
            "type": "carpet"
           }
          ],
          "choropleth": [
           {
            "colorbar": {
             "outlinewidth": 0,
             "ticks": ""
            },
            "type": "choropleth"
           }
          ],
          "contour": [
           {
            "colorbar": {
             "outlinewidth": 0,
             "ticks": ""
            },
            "colorscale": [
             [
              0,
              "#0d0887"
             ],
             [
              0.1111111111111111,
              "#46039f"
             ],
             [
              0.2222222222222222,
              "#7201a8"
             ],
             [
              0.3333333333333333,
              "#9c179e"
             ],
             [
              0.4444444444444444,
              "#bd3786"
             ],
             [
              0.5555555555555556,
              "#d8576b"
             ],
             [
              0.6666666666666666,
              "#ed7953"
             ],
             [
              0.7777777777777778,
              "#fb9f3a"
             ],
             [
              0.8888888888888888,
              "#fdca26"
             ],
             [
              1,
              "#f0f921"
             ]
            ],
            "type": "contour"
           }
          ],
          "contourcarpet": [
           {
            "colorbar": {
             "outlinewidth": 0,
             "ticks": ""
            },
            "type": "contourcarpet"
           }
          ],
          "heatmap": [
           {
            "colorbar": {
             "outlinewidth": 0,
             "ticks": ""
            },
            "colorscale": [
             [
              0,
              "#0d0887"
             ],
             [
              0.1111111111111111,
              "#46039f"
             ],
             [
              0.2222222222222222,
              "#7201a8"
             ],
             [
              0.3333333333333333,
              "#9c179e"
             ],
             [
              0.4444444444444444,
              "#bd3786"
             ],
             [
              0.5555555555555556,
              "#d8576b"
             ],
             [
              0.6666666666666666,
              "#ed7953"
             ],
             [
              0.7777777777777778,
              "#fb9f3a"
             ],
             [
              0.8888888888888888,
              "#fdca26"
             ],
             [
              1,
              "#f0f921"
             ]
            ],
            "type": "heatmap"
           }
          ],
          "heatmapgl": [
           {
            "colorbar": {
             "outlinewidth": 0,
             "ticks": ""
            },
            "colorscale": [
             [
              0,
              "#0d0887"
             ],
             [
              0.1111111111111111,
              "#46039f"
             ],
             [
              0.2222222222222222,
              "#7201a8"
             ],
             [
              0.3333333333333333,
              "#9c179e"
             ],
             [
              0.4444444444444444,
              "#bd3786"
             ],
             [
              0.5555555555555556,
              "#d8576b"
             ],
             [
              0.6666666666666666,
              "#ed7953"
             ],
             [
              0.7777777777777778,
              "#fb9f3a"
             ],
             [
              0.8888888888888888,
              "#fdca26"
             ],
             [
              1,
              "#f0f921"
             ]
            ],
            "type": "heatmapgl"
           }
          ],
          "histogram": [
           {
            "marker": {
             "pattern": {
              "fillmode": "overlay",
              "size": 10,
              "solidity": 0.2
             }
            },
            "type": "histogram"
           }
          ],
          "histogram2d": [
           {
            "colorbar": {
             "outlinewidth": 0,
             "ticks": ""
            },
            "colorscale": [
             [
              0,
              "#0d0887"
             ],
             [
              0.1111111111111111,
              "#46039f"
             ],
             [
              0.2222222222222222,
              "#7201a8"
             ],
             [
              0.3333333333333333,
              "#9c179e"
             ],
             [
              0.4444444444444444,
              "#bd3786"
             ],
             [
              0.5555555555555556,
              "#d8576b"
             ],
             [
              0.6666666666666666,
              "#ed7953"
             ],
             [
              0.7777777777777778,
              "#fb9f3a"
             ],
             [
              0.8888888888888888,
              "#fdca26"
             ],
             [
              1,
              "#f0f921"
             ]
            ],
            "type": "histogram2d"
           }
          ],
          "histogram2dcontour": [
           {
            "colorbar": {
             "outlinewidth": 0,
             "ticks": ""
            },
            "colorscale": [
             [
              0,
              "#0d0887"
             ],
             [
              0.1111111111111111,
              "#46039f"
             ],
             [
              0.2222222222222222,
              "#7201a8"
             ],
             [
              0.3333333333333333,
              "#9c179e"
             ],
             [
              0.4444444444444444,
              "#bd3786"
             ],
             [
              0.5555555555555556,
              "#d8576b"
             ],
             [
              0.6666666666666666,
              "#ed7953"
             ],
             [
              0.7777777777777778,
              "#fb9f3a"
             ],
             [
              0.8888888888888888,
              "#fdca26"
             ],
             [
              1,
              "#f0f921"
             ]
            ],
            "type": "histogram2dcontour"
           }
          ],
          "mesh3d": [
           {
            "colorbar": {
             "outlinewidth": 0,
             "ticks": ""
            },
            "type": "mesh3d"
           }
          ],
          "parcoords": [
           {
            "line": {
             "colorbar": {
              "outlinewidth": 0,
              "ticks": ""
             }
            },
            "type": "parcoords"
           }
          ],
          "pie": [
           {
            "automargin": true,
            "type": "pie"
           }
          ],
          "scatter": [
           {
            "fillpattern": {
             "fillmode": "overlay",
             "size": 10,
             "solidity": 0.2
            },
            "type": "scatter"
           }
          ],
          "scatter3d": [
           {
            "line": {
             "colorbar": {
              "outlinewidth": 0,
              "ticks": ""
             }
            },
            "marker": {
             "colorbar": {
              "outlinewidth": 0,
              "ticks": ""
             }
            },
            "type": "scatter3d"
           }
          ],
          "scattercarpet": [
           {
            "marker": {
             "colorbar": {
              "outlinewidth": 0,
              "ticks": ""
             }
            },
            "type": "scattercarpet"
           }
          ],
          "scattergeo": [
           {
            "marker": {
             "colorbar": {
              "outlinewidth": 0,
              "ticks": ""
             }
            },
            "type": "scattergeo"
           }
          ],
          "scattergl": [
           {
            "marker": {
             "colorbar": {
              "outlinewidth": 0,
              "ticks": ""
             }
            },
            "type": "scattergl"
           }
          ],
          "scattermapbox": [
           {
            "marker": {
             "colorbar": {
              "outlinewidth": 0,
              "ticks": ""
             }
            },
            "type": "scattermapbox"
           }
          ],
          "scatterpolar": [
           {
            "marker": {
             "colorbar": {
              "outlinewidth": 0,
              "ticks": ""
             }
            },
            "type": "scatterpolar"
           }
          ],
          "scatterpolargl": [
           {
            "marker": {
             "colorbar": {
              "outlinewidth": 0,
              "ticks": ""
             }
            },
            "type": "scatterpolargl"
           }
          ],
          "scatterternary": [
           {
            "marker": {
             "colorbar": {
              "outlinewidth": 0,
              "ticks": ""
             }
            },
            "type": "scatterternary"
           }
          ],
          "surface": [
           {
            "colorbar": {
             "outlinewidth": 0,
             "ticks": ""
            },
            "colorscale": [
             [
              0,
              "#0d0887"
             ],
             [
              0.1111111111111111,
              "#46039f"
             ],
             [
              0.2222222222222222,
              "#7201a8"
             ],
             [
              0.3333333333333333,
              "#9c179e"
             ],
             [
              0.4444444444444444,
              "#bd3786"
             ],
             [
              0.5555555555555556,
              "#d8576b"
             ],
             [
              0.6666666666666666,
              "#ed7953"
             ],
             [
              0.7777777777777778,
              "#fb9f3a"
             ],
             [
              0.8888888888888888,
              "#fdca26"
             ],
             [
              1,
              "#f0f921"
             ]
            ],
            "type": "surface"
           }
          ],
          "table": [
           {
            "cells": {
             "fill": {
              "color": "#EBF0F8"
             },
             "line": {
              "color": "white"
             }
            },
            "header": {
             "fill": {
              "color": "#C8D4E3"
             },
             "line": {
              "color": "white"
             }
            },
            "type": "table"
           }
          ]
         },
         "layout": {
          "annotationdefaults": {
           "arrowcolor": "#2a3f5f",
           "arrowhead": 0,
           "arrowwidth": 1
          },
          "autotypenumbers": "strict",
          "coloraxis": {
           "colorbar": {
            "outlinewidth": 0,
            "ticks": ""
           }
          },
          "colorscale": {
           "diverging": [
            [
             0,
             "#8e0152"
            ],
            [
             0.1,
             "#c51b7d"
            ],
            [
             0.2,
             "#de77ae"
            ],
            [
             0.3,
             "#f1b6da"
            ],
            [
             0.4,
             "#fde0ef"
            ],
            [
             0.5,
             "#f7f7f7"
            ],
            [
             0.6,
             "#e6f5d0"
            ],
            [
             0.7,
             "#b8e186"
            ],
            [
             0.8,
             "#7fbc41"
            ],
            [
             0.9,
             "#4d9221"
            ],
            [
             1,
             "#276419"
            ]
           ],
           "sequential": [
            [
             0,
             "#0d0887"
            ],
            [
             0.1111111111111111,
             "#46039f"
            ],
            [
             0.2222222222222222,
             "#7201a8"
            ],
            [
             0.3333333333333333,
             "#9c179e"
            ],
            [
             0.4444444444444444,
             "#bd3786"
            ],
            [
             0.5555555555555556,
             "#d8576b"
            ],
            [
             0.6666666666666666,
             "#ed7953"
            ],
            [
             0.7777777777777778,
             "#fb9f3a"
            ],
            [
             0.8888888888888888,
             "#fdca26"
            ],
            [
             1,
             "#f0f921"
            ]
           ],
           "sequentialminus": [
            [
             0,
             "#0d0887"
            ],
            [
             0.1111111111111111,
             "#46039f"
            ],
            [
             0.2222222222222222,
             "#7201a8"
            ],
            [
             0.3333333333333333,
             "#9c179e"
            ],
            [
             0.4444444444444444,
             "#bd3786"
            ],
            [
             0.5555555555555556,
             "#d8576b"
            ],
            [
             0.6666666666666666,
             "#ed7953"
            ],
            [
             0.7777777777777778,
             "#fb9f3a"
            ],
            [
             0.8888888888888888,
             "#fdca26"
            ],
            [
             1,
             "#f0f921"
            ]
           ]
          },
          "colorway": [
           "#636efa",
           "#EF553B",
           "#00cc96",
           "#ab63fa",
           "#FFA15A",
           "#19d3f3",
           "#FF6692",
           "#B6E880",
           "#FF97FF",
           "#FECB52"
          ],
          "font": {
           "color": "#2a3f5f"
          },
          "geo": {
           "bgcolor": "white",
           "lakecolor": "white",
           "landcolor": "#E5ECF6",
           "showlakes": true,
           "showland": true,
           "subunitcolor": "white"
          },
          "hoverlabel": {
           "align": "left"
          },
          "hovermode": "closest",
          "mapbox": {
           "style": "light"
          },
          "paper_bgcolor": "white",
          "plot_bgcolor": "#E5ECF6",
          "polar": {
           "angularaxis": {
            "gridcolor": "white",
            "linecolor": "white",
            "ticks": ""
           },
           "bgcolor": "#E5ECF6",
           "radialaxis": {
            "gridcolor": "white",
            "linecolor": "white",
            "ticks": ""
           }
          },
          "scene": {
           "xaxis": {
            "backgroundcolor": "#E5ECF6",
            "gridcolor": "white",
            "gridwidth": 2,
            "linecolor": "white",
            "showbackground": true,
            "ticks": "",
            "zerolinecolor": "white"
           },
           "yaxis": {
            "backgroundcolor": "#E5ECF6",
            "gridcolor": "white",
            "gridwidth": 2,
            "linecolor": "white",
            "showbackground": true,
            "ticks": "",
            "zerolinecolor": "white"
           },
           "zaxis": {
            "backgroundcolor": "#E5ECF6",
            "gridcolor": "white",
            "gridwidth": 2,
            "linecolor": "white",
            "showbackground": true,
            "ticks": "",
            "zerolinecolor": "white"
           }
          },
          "shapedefaults": {
           "line": {
            "color": "#2a3f5f"
           }
          },
          "ternary": {
           "aaxis": {
            "gridcolor": "white",
            "linecolor": "white",
            "ticks": ""
           },
           "baxis": {
            "gridcolor": "white",
            "linecolor": "white",
            "ticks": ""
           },
           "bgcolor": "#E5ECF6",
           "caxis": {
            "gridcolor": "white",
            "linecolor": "white",
            "ticks": ""
           }
          },
          "title": {
           "x": 0.05
          },
          "xaxis": {
           "automargin": true,
           "gridcolor": "white",
           "linecolor": "white",
           "ticks": "",
           "title": {
            "standoff": 15
           },
           "zerolinecolor": "white",
           "zerolinewidth": 2
          },
          "yaxis": {
           "automargin": true,
           "gridcolor": "white",
           "linecolor": "white",
           "ticks": "",
           "title": {
            "standoff": 15
           },
           "zerolinecolor": "white",
           "zerolinewidth": 2
          }
         }
        },
        "title": {
         "text": "Average Rank of Top 10 Different Colleges offering Mechanical"
        },
        "xaxis": {
         "anchor": "y",
         "domain": [
          0,
          1
         ],
         "title": {
          "text": "Average Rank"
         }
        },
        "yaxis": {
         "anchor": "x",
         "categoryorder": "total ascending",
         "domain": [
          0,
          1
         ],
         "title": {
          "text": "Institute-Academic Program Name"
         }
        }
       }
      }
     },
     "metadata": {},
     "output_type": "display_data"
    }
   ],
   "source": [
    "#branch-wise college popularity\n",
    "import pandas as pd\n",
    "import plotly.express as px\n",
    "\n",
    "# Load the dataset\n",
    "df = pd.read_csv('combined2.csv')\n",
    "\n",
    "# Ensure the relevant columns are present and convert ranks to numeric\n",
    "df['Opening Rank'] = pd.to_numeric(df['Opening Rank'], errors='coerce')\n",
    "df['Closing Rank'] = pd.to_numeric(df['Closing Rank'], errors='coerce')\n",
    "df.dropna(subset=['Closing Rank'], inplace=True)\n",
    "\n",
    "# Filter the dataset for the year 2023\n",
    "df = df[df['Year'] == 2023]\n",
    "college_data = df.loc[(df['Gender'] == 'Gender-Neutral') & \n",
    "                      (df['Academic Program Name'].str.contains(branch, case=False)) &\n",
    "                     ((df['Quota'] == 'AI') | (df['Quota'] == 'OS') )& \n",
    "                     (df['Seat Type'] == 'OPEN') & \n",
    "                     (df['Round'] == 6) & \n",
    "                     (~df['Institute'].str.contains('Architecture', na=False)) & \n",
    "                     (~df['Academic Program Name'].str.contains('Architecture', na=False))]\n",
    "\n",
    "# Calculate the average rank\n",
    "college_data['Average Rank'] = (college_data['Opening Rank'] + college_data['Closing Rank']) / 2\n",
    "\n",
    "# Further filter based on rank input\n",
    "rank_adv = int(input('Enter your Advanced Rank: '))\n",
    "rank_mains = int(input('Enter your Mains Rank: '))\n",
    "\n",
    "# Filter for IITs and other institutes separately and then combine\n",
    "iit_data = college_data[(college_data['Opening Rank'] >= rank_adv) & (college_data['Institute'].str.contains('Indian Institute  of Technology'))]\n",
    "non_iit_data = college_data[(college_data['Opening Rank'] >= rank_mains) & (~college_data['Institute'].str.contains('Indian Institute  of Technology'))]\n",
    "\n",
    "combined_2023 = pd.concat([iit_data, non_iit_data])\n",
    "\n",
    "# Select and sort the top 10 colleges\n",
    "top_10 = combined_2023.sort_values(by='Average Rank').head(10)\n",
    "\n",
    "# Concatenate Institute and Academic Program Name for y-axis\n",
    "top_10['Institute-Academic Program Name'] = top_10['Institute'] + ' - ' + top_10['Academic Program Name']\n",
    "\n",
    "# Create the Plotly figure\n",
    "fig = px.bar(\n",
    "    top_10,\n",
    "    x='Average Rank',\n",
    "    y='Institute-Academic Program Name',\n",
    "    orientation='h',\n",
    "    title=f'Average Rank of Top 10 Different Colleges offering {branch}',\n",
    "    labels={'Average Rank': 'Average Rank', 'Institute-Academic Program Name': 'Institute-Academic Program Name'},\n",
    "    color='Average Rank',\n",
    "    color_continuous_scale=px.colors.sequential.Blues\n",
    ")\n",
    "\n",
    "fig.update_layout(xaxis_title='Average Rank', yaxis_title='Institute-Academic Program Name', yaxis={'categoryorder':'total ascending'})\n",
    "\n",
    "fig.show()\n"
   ]
  },
  {
   "cell_type": "code",
   "execution_count": 34,
   "metadata": {},
   "outputs": [
    {
     "name": "stderr",
     "output_type": "stream",
     "text": [
      "C:\\Users\\91934\\AppData\\Local\\Temp\\ipykernel_30452\\1010763863.py:5: DtypeWarning:\n",
      "\n",
      "Columns (6,7) have mixed types. Specify dtype option on import or set low_memory=False.\n",
      "\n"
     ]
    },
    {
     "data": {
      "application/vnd.plotly.v1+json": {
       "config": {
        "plotlyServerURL": "https://plot.ly"
       },
       "data": [
        {
         "line": {
          "color": "blue"
         },
         "marker": {
          "size": 8
         },
         "mode": "lines+markers",
         "name": "Mechanical - Indian Institute  of Technology Guwahati",
         "type": "scatter",
         "x": [
          2018,
          2019,
          2020,
          2021,
          2022,
          2023
         ],
         "y": [
          2531,
          2660.5,
          3411.5,
          3551,
          4283,
          3692
         ]
        }
       ],
       "layout": {
        "template": {
         "data": {
          "bar": [
           {
            "error_x": {
             "color": "#2a3f5f"
            },
            "error_y": {
             "color": "#2a3f5f"
            },
            "marker": {
             "line": {
              "color": "#E5ECF6",
              "width": 0.5
             },
             "pattern": {
              "fillmode": "overlay",
              "size": 10,
              "solidity": 0.2
             }
            },
            "type": "bar"
           }
          ],
          "barpolar": [
           {
            "marker": {
             "line": {
              "color": "#E5ECF6",
              "width": 0.5
             },
             "pattern": {
              "fillmode": "overlay",
              "size": 10,
              "solidity": 0.2
             }
            },
            "type": "barpolar"
           }
          ],
          "carpet": [
           {
            "aaxis": {
             "endlinecolor": "#2a3f5f",
             "gridcolor": "white",
             "linecolor": "white",
             "minorgridcolor": "white",
             "startlinecolor": "#2a3f5f"
            },
            "baxis": {
             "endlinecolor": "#2a3f5f",
             "gridcolor": "white",
             "linecolor": "white",
             "minorgridcolor": "white",
             "startlinecolor": "#2a3f5f"
            },
            "type": "carpet"
           }
          ],
          "choropleth": [
           {
            "colorbar": {
             "outlinewidth": 0,
             "ticks": ""
            },
            "type": "choropleth"
           }
          ],
          "contour": [
           {
            "colorbar": {
             "outlinewidth": 0,
             "ticks": ""
            },
            "colorscale": [
             [
              0,
              "#0d0887"
             ],
             [
              0.1111111111111111,
              "#46039f"
             ],
             [
              0.2222222222222222,
              "#7201a8"
             ],
             [
              0.3333333333333333,
              "#9c179e"
             ],
             [
              0.4444444444444444,
              "#bd3786"
             ],
             [
              0.5555555555555556,
              "#d8576b"
             ],
             [
              0.6666666666666666,
              "#ed7953"
             ],
             [
              0.7777777777777778,
              "#fb9f3a"
             ],
             [
              0.8888888888888888,
              "#fdca26"
             ],
             [
              1,
              "#f0f921"
             ]
            ],
            "type": "contour"
           }
          ],
          "contourcarpet": [
           {
            "colorbar": {
             "outlinewidth": 0,
             "ticks": ""
            },
            "type": "contourcarpet"
           }
          ],
          "heatmap": [
           {
            "colorbar": {
             "outlinewidth": 0,
             "ticks": ""
            },
            "colorscale": [
             [
              0,
              "#0d0887"
             ],
             [
              0.1111111111111111,
              "#46039f"
             ],
             [
              0.2222222222222222,
              "#7201a8"
             ],
             [
              0.3333333333333333,
              "#9c179e"
             ],
             [
              0.4444444444444444,
              "#bd3786"
             ],
             [
              0.5555555555555556,
              "#d8576b"
             ],
             [
              0.6666666666666666,
              "#ed7953"
             ],
             [
              0.7777777777777778,
              "#fb9f3a"
             ],
             [
              0.8888888888888888,
              "#fdca26"
             ],
             [
              1,
              "#f0f921"
             ]
            ],
            "type": "heatmap"
           }
          ],
          "heatmapgl": [
           {
            "colorbar": {
             "outlinewidth": 0,
             "ticks": ""
            },
            "colorscale": [
             [
              0,
              "#0d0887"
             ],
             [
              0.1111111111111111,
              "#46039f"
             ],
             [
              0.2222222222222222,
              "#7201a8"
             ],
             [
              0.3333333333333333,
              "#9c179e"
             ],
             [
              0.4444444444444444,
              "#bd3786"
             ],
             [
              0.5555555555555556,
              "#d8576b"
             ],
             [
              0.6666666666666666,
              "#ed7953"
             ],
             [
              0.7777777777777778,
              "#fb9f3a"
             ],
             [
              0.8888888888888888,
              "#fdca26"
             ],
             [
              1,
              "#f0f921"
             ]
            ],
            "type": "heatmapgl"
           }
          ],
          "histogram": [
           {
            "marker": {
             "pattern": {
              "fillmode": "overlay",
              "size": 10,
              "solidity": 0.2
             }
            },
            "type": "histogram"
           }
          ],
          "histogram2d": [
           {
            "colorbar": {
             "outlinewidth": 0,
             "ticks": ""
            },
            "colorscale": [
             [
              0,
              "#0d0887"
             ],
             [
              0.1111111111111111,
              "#46039f"
             ],
             [
              0.2222222222222222,
              "#7201a8"
             ],
             [
              0.3333333333333333,
              "#9c179e"
             ],
             [
              0.4444444444444444,
              "#bd3786"
             ],
             [
              0.5555555555555556,
              "#d8576b"
             ],
             [
              0.6666666666666666,
              "#ed7953"
             ],
             [
              0.7777777777777778,
              "#fb9f3a"
             ],
             [
              0.8888888888888888,
              "#fdca26"
             ],
             [
              1,
              "#f0f921"
             ]
            ],
            "type": "histogram2d"
           }
          ],
          "histogram2dcontour": [
           {
            "colorbar": {
             "outlinewidth": 0,
             "ticks": ""
            },
            "colorscale": [
             [
              0,
              "#0d0887"
             ],
             [
              0.1111111111111111,
              "#46039f"
             ],
             [
              0.2222222222222222,
              "#7201a8"
             ],
             [
              0.3333333333333333,
              "#9c179e"
             ],
             [
              0.4444444444444444,
              "#bd3786"
             ],
             [
              0.5555555555555556,
              "#d8576b"
             ],
             [
              0.6666666666666666,
              "#ed7953"
             ],
             [
              0.7777777777777778,
              "#fb9f3a"
             ],
             [
              0.8888888888888888,
              "#fdca26"
             ],
             [
              1,
              "#f0f921"
             ]
            ],
            "type": "histogram2dcontour"
           }
          ],
          "mesh3d": [
           {
            "colorbar": {
             "outlinewidth": 0,
             "ticks": ""
            },
            "type": "mesh3d"
           }
          ],
          "parcoords": [
           {
            "line": {
             "colorbar": {
              "outlinewidth": 0,
              "ticks": ""
             }
            },
            "type": "parcoords"
           }
          ],
          "pie": [
           {
            "automargin": true,
            "type": "pie"
           }
          ],
          "scatter": [
           {
            "fillpattern": {
             "fillmode": "overlay",
             "size": 10,
             "solidity": 0.2
            },
            "type": "scatter"
           }
          ],
          "scatter3d": [
           {
            "line": {
             "colorbar": {
              "outlinewidth": 0,
              "ticks": ""
             }
            },
            "marker": {
             "colorbar": {
              "outlinewidth": 0,
              "ticks": ""
             }
            },
            "type": "scatter3d"
           }
          ],
          "scattercarpet": [
           {
            "marker": {
             "colorbar": {
              "outlinewidth": 0,
              "ticks": ""
             }
            },
            "type": "scattercarpet"
           }
          ],
          "scattergeo": [
           {
            "marker": {
             "colorbar": {
              "outlinewidth": 0,
              "ticks": ""
             }
            },
            "type": "scattergeo"
           }
          ],
          "scattergl": [
           {
            "marker": {
             "colorbar": {
              "outlinewidth": 0,
              "ticks": ""
             }
            },
            "type": "scattergl"
           }
          ],
          "scattermapbox": [
           {
            "marker": {
             "colorbar": {
              "outlinewidth": 0,
              "ticks": ""
             }
            },
            "type": "scattermapbox"
           }
          ],
          "scatterpolar": [
           {
            "marker": {
             "colorbar": {
              "outlinewidth": 0,
              "ticks": ""
             }
            },
            "type": "scatterpolar"
           }
          ],
          "scatterpolargl": [
           {
            "marker": {
             "colorbar": {
              "outlinewidth": 0,
              "ticks": ""
             }
            },
            "type": "scatterpolargl"
           }
          ],
          "scatterternary": [
           {
            "marker": {
             "colorbar": {
              "outlinewidth": 0,
              "ticks": ""
             }
            },
            "type": "scatterternary"
           }
          ],
          "surface": [
           {
            "colorbar": {
             "outlinewidth": 0,
             "ticks": ""
            },
            "colorscale": [
             [
              0,
              "#0d0887"
             ],
             [
              0.1111111111111111,
              "#46039f"
             ],
             [
              0.2222222222222222,
              "#7201a8"
             ],
             [
              0.3333333333333333,
              "#9c179e"
             ],
             [
              0.4444444444444444,
              "#bd3786"
             ],
             [
              0.5555555555555556,
              "#d8576b"
             ],
             [
              0.6666666666666666,
              "#ed7953"
             ],
             [
              0.7777777777777778,
              "#fb9f3a"
             ],
             [
              0.8888888888888888,
              "#fdca26"
             ],
             [
              1,
              "#f0f921"
             ]
            ],
            "type": "surface"
           }
          ],
          "table": [
           {
            "cells": {
             "fill": {
              "color": "#EBF0F8"
             },
             "line": {
              "color": "white"
             }
            },
            "header": {
             "fill": {
              "color": "#C8D4E3"
             },
             "line": {
              "color": "white"
             }
            },
            "type": "table"
           }
          ]
         },
         "layout": {
          "annotationdefaults": {
           "arrowcolor": "#2a3f5f",
           "arrowhead": 0,
           "arrowwidth": 1
          },
          "autotypenumbers": "strict",
          "coloraxis": {
           "colorbar": {
            "outlinewidth": 0,
            "ticks": ""
           }
          },
          "colorscale": {
           "diverging": [
            [
             0,
             "#8e0152"
            ],
            [
             0.1,
             "#c51b7d"
            ],
            [
             0.2,
             "#de77ae"
            ],
            [
             0.3,
             "#f1b6da"
            ],
            [
             0.4,
             "#fde0ef"
            ],
            [
             0.5,
             "#f7f7f7"
            ],
            [
             0.6,
             "#e6f5d0"
            ],
            [
             0.7,
             "#b8e186"
            ],
            [
             0.8,
             "#7fbc41"
            ],
            [
             0.9,
             "#4d9221"
            ],
            [
             1,
             "#276419"
            ]
           ],
           "sequential": [
            [
             0,
             "#0d0887"
            ],
            [
             0.1111111111111111,
             "#46039f"
            ],
            [
             0.2222222222222222,
             "#7201a8"
            ],
            [
             0.3333333333333333,
             "#9c179e"
            ],
            [
             0.4444444444444444,
             "#bd3786"
            ],
            [
             0.5555555555555556,
             "#d8576b"
            ],
            [
             0.6666666666666666,
             "#ed7953"
            ],
            [
             0.7777777777777778,
             "#fb9f3a"
            ],
            [
             0.8888888888888888,
             "#fdca26"
            ],
            [
             1,
             "#f0f921"
            ]
           ],
           "sequentialminus": [
            [
             0,
             "#0d0887"
            ],
            [
             0.1111111111111111,
             "#46039f"
            ],
            [
             0.2222222222222222,
             "#7201a8"
            ],
            [
             0.3333333333333333,
             "#9c179e"
            ],
            [
             0.4444444444444444,
             "#bd3786"
            ],
            [
             0.5555555555555556,
             "#d8576b"
            ],
            [
             0.6666666666666666,
             "#ed7953"
            ],
            [
             0.7777777777777778,
             "#fb9f3a"
            ],
            [
             0.8888888888888888,
             "#fdca26"
            ],
            [
             1,
             "#f0f921"
            ]
           ]
          },
          "colorway": [
           "#636efa",
           "#EF553B",
           "#00cc96",
           "#ab63fa",
           "#FFA15A",
           "#19d3f3",
           "#FF6692",
           "#B6E880",
           "#FF97FF",
           "#FECB52"
          ],
          "font": {
           "color": "#2a3f5f"
          },
          "geo": {
           "bgcolor": "white",
           "lakecolor": "white",
           "landcolor": "#E5ECF6",
           "showlakes": true,
           "showland": true,
           "subunitcolor": "white"
          },
          "hoverlabel": {
           "align": "left"
          },
          "hovermode": "closest",
          "mapbox": {
           "style": "light"
          },
          "paper_bgcolor": "white",
          "plot_bgcolor": "#E5ECF6",
          "polar": {
           "angularaxis": {
            "gridcolor": "white",
            "linecolor": "white",
            "ticks": ""
           },
           "bgcolor": "#E5ECF6",
           "radialaxis": {
            "gridcolor": "white",
            "linecolor": "white",
            "ticks": ""
           }
          },
          "scene": {
           "xaxis": {
            "backgroundcolor": "#E5ECF6",
            "gridcolor": "white",
            "gridwidth": 2,
            "linecolor": "white",
            "showbackground": true,
            "ticks": "",
            "zerolinecolor": "white"
           },
           "yaxis": {
            "backgroundcolor": "#E5ECF6",
            "gridcolor": "white",
            "gridwidth": 2,
            "linecolor": "white",
            "showbackground": true,
            "ticks": "",
            "zerolinecolor": "white"
           },
           "zaxis": {
            "backgroundcolor": "#E5ECF6",
            "gridcolor": "white",
            "gridwidth": 2,
            "linecolor": "white",
            "showbackground": true,
            "ticks": "",
            "zerolinecolor": "white"
           }
          },
          "shapedefaults": {
           "line": {
            "color": "#2a3f5f"
           }
          },
          "ternary": {
           "aaxis": {
            "gridcolor": "white",
            "linecolor": "white",
            "ticks": ""
           },
           "baxis": {
            "gridcolor": "white",
            "linecolor": "white",
            "ticks": ""
           },
           "bgcolor": "#E5ECF6",
           "caxis": {
            "gridcolor": "white",
            "linecolor": "white",
            "ticks": ""
           }
          },
          "title": {
           "x": 0.05
          },
          "xaxis": {
           "automargin": true,
           "gridcolor": "white",
           "linecolor": "white",
           "ticks": "",
           "title": {
            "standoff": 15
           },
           "zerolinecolor": "white",
           "zerolinewidth": 2
          },
          "yaxis": {
           "automargin": true,
           "gridcolor": "white",
           "linecolor": "white",
           "ticks": "",
           "title": {
            "standoff": 15
           },
           "zerolinecolor": "white",
           "zerolinewidth": 2
          }
         }
        },
        "title": {
         "text": "Average Rank of Mechanical in Indian Institute  of Technology Guwahati"
        },
        "xaxis": {
         "dtick": 1,
         "tick0": 2018,
         "tickmode": "linear",
         "title": {
          "text": "Years"
         }
        },
        "yaxis": {
         "title": {
          "text": "Average Rank"
         }
        }
       }
      }
     },
     "metadata": {},
     "output_type": "display_data"
    }
   ],
   "source": [
    "##5 Branch and College Trend over Years\n",
    "import pandas as pd\n",
    "import plotly.graph_objects as go\n",
    "\n",
    "df = pd.read_csv('combined2.csv')\n",
    "college_name = input(\"Enter the college name: \")\n",
    "branch = input(\"Enter the branch name: \")\n",
    "seatty = input(\"Enter Your seat type(OPEN,EWS,OBC-NCL,SC,ST,EWS (PwD),OBC-NCL (PwD),OPEN (PwD), SC (PwD), ST(PwD)):\")\n",
    "gender = input(\"Enter Your Gender(Male,Female):\")\n",
    "quota = input('Enter Your Quota(AI,OS,HS):')\n",
    "\n",
    "df['Closing Rank'] = pd.to_numeric(df['Closing Rank'], errors='coerce')\n",
    "df['Opening Rank'] = pd.to_numeric(df['Opening Rank'], errors='coerce')\n",
    "\n",
    "df = df.dropna(subset=['Closing Rank', 'Opening Rank'])\n",
    "\n",
    "seatty = seatty.upper()\n",
    "quota = quota.upper()\n",
    "gender = gender.lower()\n",
    "gender_list = ['Female-only (including Supernumerary)'] if gender== 'female' else ['Gender-Neutral']\n",
    "df['Average Rank'] = (df['Closing Rank'] +df['Opening Rank'])/2\n",
    "\n",
    "college_data = df[(df.Institute == college_name) & (df['Seat Type'] == seatty) & (df['Gender'].isin(gender_list)) &  (df['Quota'] == quota) & (df['Round']==6) & (df['Academic Program Name'].str.contains(branch, case=False))]\n",
    "\n",
    "# Sort the data by year\n",
    "college_data = college_data.sort_values(by='Year')\n",
    "fig = go.Figure()\n",
    "\n",
    "# Add a trace for the line graph\n",
    "fig.add_trace(go.Scatter(\n",
    "    x=college_data['Year'],\n",
    "    y=college_data['Average Rank'],\n",
    "    mode='lines+markers',  # Show both lines and markers\n",
    "    marker=dict(size=8),  # Marker size\n",
    "    line=dict(color='blue'),  # Line color\n",
    "    name=f'{branch} - {college_name}'  # Name for legend\n",
    "))\n",
    "\n",
    "# Update layout\n",
    "fig.update_layout(\n",
    "    title=f\"Average Rank of {branch} in {college_name}\",\n",
    "    xaxis_title='Years',\n",
    "    yaxis_title='Average Rank',\n",
    "    xaxis=dict(tickmode='linear', tick0=2018, dtick=1),  # Set ticks for years\n",
    ")\n",
    "\n",
    "fig.show()\n"
   ]
  },
  {
   "cell_type": "code",
   "execution_count": 47,
   "metadata": {},
   "outputs": [
    {
     "name": "stderr",
     "output_type": "stream",
     "text": [
      "C:\\Users\\91934\\AppData\\Local\\Temp\\ipykernel_30452\\3399847211.py:7: DtypeWarning:\n",
      "\n",
      "Columns (6,7) have mixed types. Specify dtype option on import or set low_memory=False.\n",
      "\n"
     ]
    },
    {
     "name": "stdout",
     "output_type": "stream",
     "text": [
      "Top 10 Most Popular New Branches Based on Average Rank:\n",
      "                                    Academic Program Name  \\\n",
      "365764  Mathematics and Computing (4 Years, Bachelor o...   \n",
      "335663  Mathematics & Computing (5 Years, Bachelor of ...   \n",
      "314069  Artificial Intelligence and Data Science (4 Ye...   \n",
      "307727  Computer Science and Engineering with Speciali...   \n",
      "271713  Integrated B. Tech.(IT) and M. Tech (IT) (5 Ye...   \n",
      "217035  Engineering and Computational Mechanics (4 Yea...   \n",
      "321862  Computer Science Engineering (Artificial lntel...   \n",
      "151536  Computer Science and Artificial Intelligence (...   \n",
      "321725  Artificial Intelligence and Data Science (4 Ye...   \n",
      "313548  Artificial Intelligence and Data Science (4 Ye...   \n",
      "\n",
      "                                                Institute  \n",
      "365764          Indian Institute  of Technology Kharagpur  \n",
      "335663            Indian Institute  of Technology Roorkee  \n",
      "314069              Indian Institute  of Technology Patna  \n",
      "307727             National Institute of Technology Patna  \n",
      "271713  Atal Bihari Vajpayee Indian Institute of Infor...  \n",
      "217035              Indian Institute  of Technology Delhi  \n",
      "321862  Indian Institute of Information Technology (II...  \n",
      "151536  Indian Institute of Information Technology Luc...  \n",
      "321725  Indian Institute of Information Technology Des...  \n",
      "313548            Indian Institute  of Technology Jodhpur  \n"
     ]
    },
    {
     "data": {
      "application/vnd.plotly.v1+json": {
       "config": {
        "plotlyServerURL": "https://plot.ly"
       },
       "data": [
        {
         "marker": {
          "color": [
           16,
           42,
           68,
           78,
           80,
           80,
           90,
           109,
           110,
           119
          ],
          "coloraxis": "coloraxis"
         },
         "orientation": "h",
         "type": "bar",
         "x": [
          16,
          42,
          68,
          78,
          80,
          80,
          90,
          109,
          110,
          119
         ],
         "y": [
          "Indian Institute  of Technology Kharagpur - Mathematics and Computing (4 Years, Bachelor of Science)",
          "Indian Institute  of Technology Roorkee - Mathematics & Computing (5 Years, Bachelor of Science and Master of Science (Dual Degree))",
          "Indian Institute  of Technology Patna - Artificial Intelligence and Data Science (4 Years, Bachelor of Technology)",
          "National Institute of Technology Patna - Computer Science and Engineering with Specialization in Data Science (5 Years, Bachelor and Master of Technology (Dual Degree))",
          "Atal Bihari Vajpayee Indian Institute of Information Technology & Management Gwalior - Integrated B. Tech.(IT) and M. Tech (IT) (5 Years, Integrated B. Tech. and M. Tech.)",
          "Indian Institute  of Technology Delhi - Engineering and Computational Mechanics (4 Years, Bachelor of Technology)",
          "Indian Institute of Information Technology (IIIT) Nagpur - Computer Science Engineering (Artificial lntelligence and Machine Learning) (4 Years, Bachelor of Technology)",
          "Indian Institute of Information Technology Lucknow - Computer Science and Artificial Intelligence (4 Years, Bachelor of Technology)",
          "Indian Institute of Information Technology Design & Manufacturing Kurnool, Andhra Pradesh - Artificial Intelligence and Data Science (4 Years, Bachelor of Technology)",
          "Indian Institute  of Technology Jodhpur - Artificial Intelligence and Data Science (4 Years, Bachelor of Technology)"
         ]
        }
       ],
       "layout": {
        "coloraxis": {
         "colorscale": [
          [
           0,
           "rgb(247,251,255)"
          ],
          [
           0.125,
           "rgb(222,235,247)"
          ],
          [
           0.25,
           "rgb(198,219,239)"
          ],
          [
           0.375,
           "rgb(158,202,225)"
          ],
          [
           0.5,
           "rgb(107,174,214)"
          ],
          [
           0.625,
           "rgb(66,146,198)"
          ],
          [
           0.75,
           "rgb(33,113,181)"
          ],
          [
           0.875,
           "rgb(8,81,156)"
          ],
          [
           1,
           "rgb(8,48,107)"
          ]
         ]
        },
        "height": 800,
        "template": {
         "data": {
          "bar": [
           {
            "error_x": {
             "color": "#2a3f5f"
            },
            "error_y": {
             "color": "#2a3f5f"
            },
            "marker": {
             "line": {
              "color": "#E5ECF6",
              "width": 0.5
             },
             "pattern": {
              "fillmode": "overlay",
              "size": 10,
              "solidity": 0.2
             }
            },
            "type": "bar"
           }
          ],
          "barpolar": [
           {
            "marker": {
             "line": {
              "color": "#E5ECF6",
              "width": 0.5
             },
             "pattern": {
              "fillmode": "overlay",
              "size": 10,
              "solidity": 0.2
             }
            },
            "type": "barpolar"
           }
          ],
          "carpet": [
           {
            "aaxis": {
             "endlinecolor": "#2a3f5f",
             "gridcolor": "white",
             "linecolor": "white",
             "minorgridcolor": "white",
             "startlinecolor": "#2a3f5f"
            },
            "baxis": {
             "endlinecolor": "#2a3f5f",
             "gridcolor": "white",
             "linecolor": "white",
             "minorgridcolor": "white",
             "startlinecolor": "#2a3f5f"
            },
            "type": "carpet"
           }
          ],
          "choropleth": [
           {
            "colorbar": {
             "outlinewidth": 0,
             "ticks": ""
            },
            "type": "choropleth"
           }
          ],
          "contour": [
           {
            "colorbar": {
             "outlinewidth": 0,
             "ticks": ""
            },
            "colorscale": [
             [
              0,
              "#0d0887"
             ],
             [
              0.1111111111111111,
              "#46039f"
             ],
             [
              0.2222222222222222,
              "#7201a8"
             ],
             [
              0.3333333333333333,
              "#9c179e"
             ],
             [
              0.4444444444444444,
              "#bd3786"
             ],
             [
              0.5555555555555556,
              "#d8576b"
             ],
             [
              0.6666666666666666,
              "#ed7953"
             ],
             [
              0.7777777777777778,
              "#fb9f3a"
             ],
             [
              0.8888888888888888,
              "#fdca26"
             ],
             [
              1,
              "#f0f921"
             ]
            ],
            "type": "contour"
           }
          ],
          "contourcarpet": [
           {
            "colorbar": {
             "outlinewidth": 0,
             "ticks": ""
            },
            "type": "contourcarpet"
           }
          ],
          "heatmap": [
           {
            "colorbar": {
             "outlinewidth": 0,
             "ticks": ""
            },
            "colorscale": [
             [
              0,
              "#0d0887"
             ],
             [
              0.1111111111111111,
              "#46039f"
             ],
             [
              0.2222222222222222,
              "#7201a8"
             ],
             [
              0.3333333333333333,
              "#9c179e"
             ],
             [
              0.4444444444444444,
              "#bd3786"
             ],
             [
              0.5555555555555556,
              "#d8576b"
             ],
             [
              0.6666666666666666,
              "#ed7953"
             ],
             [
              0.7777777777777778,
              "#fb9f3a"
             ],
             [
              0.8888888888888888,
              "#fdca26"
             ],
             [
              1,
              "#f0f921"
             ]
            ],
            "type": "heatmap"
           }
          ],
          "heatmapgl": [
           {
            "colorbar": {
             "outlinewidth": 0,
             "ticks": ""
            },
            "colorscale": [
             [
              0,
              "#0d0887"
             ],
             [
              0.1111111111111111,
              "#46039f"
             ],
             [
              0.2222222222222222,
              "#7201a8"
             ],
             [
              0.3333333333333333,
              "#9c179e"
             ],
             [
              0.4444444444444444,
              "#bd3786"
             ],
             [
              0.5555555555555556,
              "#d8576b"
             ],
             [
              0.6666666666666666,
              "#ed7953"
             ],
             [
              0.7777777777777778,
              "#fb9f3a"
             ],
             [
              0.8888888888888888,
              "#fdca26"
             ],
             [
              1,
              "#f0f921"
             ]
            ],
            "type": "heatmapgl"
           }
          ],
          "histogram": [
           {
            "marker": {
             "pattern": {
              "fillmode": "overlay",
              "size": 10,
              "solidity": 0.2
             }
            },
            "type": "histogram"
           }
          ],
          "histogram2d": [
           {
            "colorbar": {
             "outlinewidth": 0,
             "ticks": ""
            },
            "colorscale": [
             [
              0,
              "#0d0887"
             ],
             [
              0.1111111111111111,
              "#46039f"
             ],
             [
              0.2222222222222222,
              "#7201a8"
             ],
             [
              0.3333333333333333,
              "#9c179e"
             ],
             [
              0.4444444444444444,
              "#bd3786"
             ],
             [
              0.5555555555555556,
              "#d8576b"
             ],
             [
              0.6666666666666666,
              "#ed7953"
             ],
             [
              0.7777777777777778,
              "#fb9f3a"
             ],
             [
              0.8888888888888888,
              "#fdca26"
             ],
             [
              1,
              "#f0f921"
             ]
            ],
            "type": "histogram2d"
           }
          ],
          "histogram2dcontour": [
           {
            "colorbar": {
             "outlinewidth": 0,
             "ticks": ""
            },
            "colorscale": [
             [
              0,
              "#0d0887"
             ],
             [
              0.1111111111111111,
              "#46039f"
             ],
             [
              0.2222222222222222,
              "#7201a8"
             ],
             [
              0.3333333333333333,
              "#9c179e"
             ],
             [
              0.4444444444444444,
              "#bd3786"
             ],
             [
              0.5555555555555556,
              "#d8576b"
             ],
             [
              0.6666666666666666,
              "#ed7953"
             ],
             [
              0.7777777777777778,
              "#fb9f3a"
             ],
             [
              0.8888888888888888,
              "#fdca26"
             ],
             [
              1,
              "#f0f921"
             ]
            ],
            "type": "histogram2dcontour"
           }
          ],
          "mesh3d": [
           {
            "colorbar": {
             "outlinewidth": 0,
             "ticks": ""
            },
            "type": "mesh3d"
           }
          ],
          "parcoords": [
           {
            "line": {
             "colorbar": {
              "outlinewidth": 0,
              "ticks": ""
             }
            },
            "type": "parcoords"
           }
          ],
          "pie": [
           {
            "automargin": true,
            "type": "pie"
           }
          ],
          "scatter": [
           {
            "fillpattern": {
             "fillmode": "overlay",
             "size": 10,
             "solidity": 0.2
            },
            "type": "scatter"
           }
          ],
          "scatter3d": [
           {
            "line": {
             "colorbar": {
              "outlinewidth": 0,
              "ticks": ""
             }
            },
            "marker": {
             "colorbar": {
              "outlinewidth": 0,
              "ticks": ""
             }
            },
            "type": "scatter3d"
           }
          ],
          "scattercarpet": [
           {
            "marker": {
             "colorbar": {
              "outlinewidth": 0,
              "ticks": ""
             }
            },
            "type": "scattercarpet"
           }
          ],
          "scattergeo": [
           {
            "marker": {
             "colorbar": {
              "outlinewidth": 0,
              "ticks": ""
             }
            },
            "type": "scattergeo"
           }
          ],
          "scattergl": [
           {
            "marker": {
             "colorbar": {
              "outlinewidth": 0,
              "ticks": ""
             }
            },
            "type": "scattergl"
           }
          ],
          "scattermapbox": [
           {
            "marker": {
             "colorbar": {
              "outlinewidth": 0,
              "ticks": ""
             }
            },
            "type": "scattermapbox"
           }
          ],
          "scatterpolar": [
           {
            "marker": {
             "colorbar": {
              "outlinewidth": 0,
              "ticks": ""
             }
            },
            "type": "scatterpolar"
           }
          ],
          "scatterpolargl": [
           {
            "marker": {
             "colorbar": {
              "outlinewidth": 0,
              "ticks": ""
             }
            },
            "type": "scatterpolargl"
           }
          ],
          "scatterternary": [
           {
            "marker": {
             "colorbar": {
              "outlinewidth": 0,
              "ticks": ""
             }
            },
            "type": "scatterternary"
           }
          ],
          "surface": [
           {
            "colorbar": {
             "outlinewidth": 0,
             "ticks": ""
            },
            "colorscale": [
             [
              0,
              "#0d0887"
             ],
             [
              0.1111111111111111,
              "#46039f"
             ],
             [
              0.2222222222222222,
              "#7201a8"
             ],
             [
              0.3333333333333333,
              "#9c179e"
             ],
             [
              0.4444444444444444,
              "#bd3786"
             ],
             [
              0.5555555555555556,
              "#d8576b"
             ],
             [
              0.6666666666666666,
              "#ed7953"
             ],
             [
              0.7777777777777778,
              "#fb9f3a"
             ],
             [
              0.8888888888888888,
              "#fdca26"
             ],
             [
              1,
              "#f0f921"
             ]
            ],
            "type": "surface"
           }
          ],
          "table": [
           {
            "cells": {
             "fill": {
              "color": "#EBF0F8"
             },
             "line": {
              "color": "white"
             }
            },
            "header": {
             "fill": {
              "color": "#C8D4E3"
             },
             "line": {
              "color": "white"
             }
            },
            "type": "table"
           }
          ]
         },
         "layout": {
          "annotationdefaults": {
           "arrowcolor": "#2a3f5f",
           "arrowhead": 0,
           "arrowwidth": 1
          },
          "autotypenumbers": "strict",
          "coloraxis": {
           "colorbar": {
            "outlinewidth": 0,
            "ticks": ""
           }
          },
          "colorscale": {
           "diverging": [
            [
             0,
             "#8e0152"
            ],
            [
             0.1,
             "#c51b7d"
            ],
            [
             0.2,
             "#de77ae"
            ],
            [
             0.3,
             "#f1b6da"
            ],
            [
             0.4,
             "#fde0ef"
            ],
            [
             0.5,
             "#f7f7f7"
            ],
            [
             0.6,
             "#e6f5d0"
            ],
            [
             0.7,
             "#b8e186"
            ],
            [
             0.8,
             "#7fbc41"
            ],
            [
             0.9,
             "#4d9221"
            ],
            [
             1,
             "#276419"
            ]
           ],
           "sequential": [
            [
             0,
             "#0d0887"
            ],
            [
             0.1111111111111111,
             "#46039f"
            ],
            [
             0.2222222222222222,
             "#7201a8"
            ],
            [
             0.3333333333333333,
             "#9c179e"
            ],
            [
             0.4444444444444444,
             "#bd3786"
            ],
            [
             0.5555555555555556,
             "#d8576b"
            ],
            [
             0.6666666666666666,
             "#ed7953"
            ],
            [
             0.7777777777777778,
             "#fb9f3a"
            ],
            [
             0.8888888888888888,
             "#fdca26"
            ],
            [
             1,
             "#f0f921"
            ]
           ],
           "sequentialminus": [
            [
             0,
             "#0d0887"
            ],
            [
             0.1111111111111111,
             "#46039f"
            ],
            [
             0.2222222222222222,
             "#7201a8"
            ],
            [
             0.3333333333333333,
             "#9c179e"
            ],
            [
             0.4444444444444444,
             "#bd3786"
            ],
            [
             0.5555555555555556,
             "#d8576b"
            ],
            [
             0.6666666666666666,
             "#ed7953"
            ],
            [
             0.7777777777777778,
             "#fb9f3a"
            ],
            [
             0.8888888888888888,
             "#fdca26"
            ],
            [
             1,
             "#f0f921"
            ]
           ]
          },
          "colorway": [
           "#636efa",
           "#EF553B",
           "#00cc96",
           "#ab63fa",
           "#FFA15A",
           "#19d3f3",
           "#FF6692",
           "#B6E880",
           "#FF97FF",
           "#FECB52"
          ],
          "font": {
           "color": "#2a3f5f"
          },
          "geo": {
           "bgcolor": "white",
           "lakecolor": "white",
           "landcolor": "#E5ECF6",
           "showlakes": true,
           "showland": true,
           "subunitcolor": "white"
          },
          "hoverlabel": {
           "align": "left"
          },
          "hovermode": "closest",
          "mapbox": {
           "style": "light"
          },
          "paper_bgcolor": "white",
          "plot_bgcolor": "#E5ECF6",
          "polar": {
           "angularaxis": {
            "gridcolor": "white",
            "linecolor": "white",
            "ticks": ""
           },
           "bgcolor": "#E5ECF6",
           "radialaxis": {
            "gridcolor": "white",
            "linecolor": "white",
            "ticks": ""
           }
          },
          "scene": {
           "xaxis": {
            "backgroundcolor": "#E5ECF6",
            "gridcolor": "white",
            "gridwidth": 2,
            "linecolor": "white",
            "showbackground": true,
            "ticks": "",
            "zerolinecolor": "white"
           },
           "yaxis": {
            "backgroundcolor": "#E5ECF6",
            "gridcolor": "white",
            "gridwidth": 2,
            "linecolor": "white",
            "showbackground": true,
            "ticks": "",
            "zerolinecolor": "white"
           },
           "zaxis": {
            "backgroundcolor": "#E5ECF6",
            "gridcolor": "white",
            "gridwidth": 2,
            "linecolor": "white",
            "showbackground": true,
            "ticks": "",
            "zerolinecolor": "white"
           }
          },
          "shapedefaults": {
           "line": {
            "color": "#2a3f5f"
           }
          },
          "ternary": {
           "aaxis": {
            "gridcolor": "white",
            "linecolor": "white",
            "ticks": ""
           },
           "baxis": {
            "gridcolor": "white",
            "linecolor": "white",
            "ticks": ""
           },
           "bgcolor": "#E5ECF6",
           "caxis": {
            "gridcolor": "white",
            "linecolor": "white",
            "ticks": ""
           }
          },
          "title": {
           "x": 0.05
          },
          "xaxis": {
           "automargin": true,
           "gridcolor": "white",
           "linecolor": "white",
           "ticks": "",
           "title": {
            "standoff": 15
           },
           "zerolinecolor": "white",
           "zerolinewidth": 2
          },
          "yaxis": {
           "automargin": true,
           "gridcolor": "white",
           "linecolor": "white",
           "ticks": "",
           "title": {
            "standoff": 15
           },
           "zerolinecolor": "white",
           "zerolinewidth": 2
          }
         }
        },
        "title": {
         "text": "Average Rank of Top 10 Different Branches"
        },
        "xaxis": {
         "title": {
          "text": "Average Rank"
         }
        },
        "yaxis": {
         "autorange": "reversed",
         "title": {
          "text": "Academic Program Name - Institute"
         }
        }
       }
      }
     },
     "metadata": {},
     "output_type": "display_data"
    },
    {
     "data": {
      "application/vnd.plotly.v1+json": {
       "config": {
        "plotlyServerURL": "https://plot.ly"
       },
       "data": [
        {
         "marker": {
          "color": [
           16,
           42,
           68,
           78,
           80,
           80,
           90,
           109,
           110,
           119
          ],
          "coloraxis": "coloraxis"
         },
         "orientation": "h",
         "type": "bar",
         "x": [
          16,
          42,
          68,
          78,
          80,
          80,
          90,
          109,
          110,
          119
         ],
         "y": [
          "Indian Institute  of Technology Kharagpur - Mathematics and Computing (4 Years, Bachelor of Science)",
          "Indian Institute  of Technology Roorkee - Mathematics & Computing (5 Years, Bachelor of Science and Master of Science (Dual Degree))",
          "Indian Institute  of Technology Patna - Artificial Intelligence and Data Science (4 Years, Bachelor of Technology)",
          "National Institute of Technology Patna - Computer Science and Engineering with Specialization in Data Science (5 Years, Bachelor and Master of Technology (Dual Degree))",
          "Atal Bihari Vajpayee Indian Institute of Information Technology & Management Gwalior - Integrated B. Tech.(IT) and M. Tech (IT) (5 Years, Integrated B. Tech. and M. Tech.)",
          "Indian Institute  of Technology Delhi - Engineering and Computational Mechanics (4 Years, Bachelor of Technology)",
          "Indian Institute of Information Technology (IIIT) Nagpur - Computer Science Engineering (Artificial lntelligence and Machine Learning) (4 Years, Bachelor of Technology)",
          "Indian Institute of Information Technology Lucknow - Computer Science and Artificial Intelligence (4 Years, Bachelor of Technology)",
          "Indian Institute of Information Technology Design & Manufacturing Kurnool, Andhra Pradesh - Artificial Intelligence and Data Science (4 Years, Bachelor of Technology)",
          "Indian Institute  of Technology Jodhpur - Artificial Intelligence and Data Science (4 Years, Bachelor of Technology)"
         ]
        },
        {
         "mode": "lines+markers",
         "name": "Indian Institute  of Technology Kharagpur - Mathematics and Computing (4 Years, Bachelor of Science) - Average Rank",
         "type": "scatter",
         "x": [],
         "y": []
        },
        {
         "mode": "lines+markers",
         "name": "Indian Institute  of Technology Roorkee - Mathematics & Computing (5 Years, Bachelor of Science and Master of Science (Dual Degree)) - Average Rank",
         "type": "scatter",
         "x": [],
         "y": []
        },
        {
         "mode": "lines+markers",
         "name": "Indian Institute  of Technology Patna - Artificial Intelligence and Data Science (4 Years, Bachelor of Technology) - Average Rank",
         "type": "scatter",
         "x": [
          2021,
          2022
         ],
         "y": [
          3345,
          3364
         ]
        },
        {
         "mode": "lines+markers",
         "name": "National Institute of Technology Patna - Computer Science and Engineering with Specialization in Data Science (5 Years, Bachelor and Master of Technology (Dual Degree)) - Average Rank",
         "type": "scatter",
         "x": [
          2022,
          2023
         ],
         "y": [
          14509.5,
          12969
         ]
        },
        {
         "mode": "lines+markers",
         "name": "Atal Bihari Vajpayee Indian Institute of Information Technology & Management Gwalior - Integrated B. Tech.(IT) and M. Tech (IT) (5 Years, Integrated B. Tech. and M. Tech.) - Average Rank",
         "type": "scatter",
         "x": [
          2021,
          2022,
          2023
         ],
         "y": [
          10633.5,
          9061.5,
          11149
         ]
        },
        {
         "mode": "lines+markers",
         "name": "Indian Institute  of Technology Delhi - Engineering and Computational Mechanics (4 Years, Bachelor of Technology) - Average Rank",
         "type": "scatter",
         "x": [],
         "y": []
        },
        {
         "mode": "lines+markers",
         "name": "Indian Institute of Information Technology (IIIT) Nagpur - Computer Science Engineering (Artificial lntelligence and Machine Learning) (4 Years, Bachelor of Technology) - Average Rank",
         "type": "scatter",
         "x": [
          2022,
          2023
         ],
         "y": [
          22362,
          20075
         ]
        },
        {
         "mode": "lines+markers",
         "name": "Indian Institute of Information Technology Lucknow - Computer Science and Artificial Intelligence (4 Years, Bachelor of Technology) - Average Rank",
         "type": "scatter",
         "x": [
          2020,
          2021,
          2022,
          2023
         ],
         "y": [
          7956,
          7653,
          7576,
          8271
         ]
        },
        {
         "mode": "lines+markers",
         "name": "Indian Institute of Information Technology Design & Manufacturing Kurnool, Andhra Pradesh - Artificial Intelligence and Data Science (4 Years, Bachelor of Technology) - Average Rank",
         "type": "scatter",
         "x": [
          2020,
          2021,
          2022,
          2023
         ],
         "y": [
          23812,
          29277.5,
          30596,
          34803.5
         ]
        },
        {
         "mode": "lines+markers",
         "name": "Indian Institute  of Technology Jodhpur - Artificial Intelligence and Data Science (4 Years, Bachelor of Technology) - Average Rank",
         "type": "scatter",
         "x": [
          2020,
          2021,
          2022,
          2023
         ],
         "y": [
          2768,
          3163.5,
          2883,
          2810.5
         ]
        }
       ],
       "layout": {
        "coloraxis": {
         "colorscale": [
          [
           0,
           "rgb(247,251,255)"
          ],
          [
           0.125,
           "rgb(222,235,247)"
          ],
          [
           0.25,
           "rgb(198,219,239)"
          ],
          [
           0.375,
           "rgb(158,202,225)"
          ],
          [
           0.5,
           "rgb(107,174,214)"
          ],
          [
           0.625,
           "rgb(66,146,198)"
          ],
          [
           0.75,
           "rgb(33,113,181)"
          ],
          [
           0.875,
           "rgb(8,81,156)"
          ],
          [
           1,
           "rgb(8,48,107)"
          ]
         ]
        },
        "height": 800,
        "legend": {
         "title": {
          "text": "Branches"
         }
        },
        "template": {
         "data": {
          "bar": [
           {
            "error_x": {
             "color": "#2a3f5f"
            },
            "error_y": {
             "color": "#2a3f5f"
            },
            "marker": {
             "line": {
              "color": "#E5ECF6",
              "width": 0.5
             },
             "pattern": {
              "fillmode": "overlay",
              "size": 10,
              "solidity": 0.2
             }
            },
            "type": "bar"
           }
          ],
          "barpolar": [
           {
            "marker": {
             "line": {
              "color": "#E5ECF6",
              "width": 0.5
             },
             "pattern": {
              "fillmode": "overlay",
              "size": 10,
              "solidity": 0.2
             }
            },
            "type": "barpolar"
           }
          ],
          "carpet": [
           {
            "aaxis": {
             "endlinecolor": "#2a3f5f",
             "gridcolor": "white",
             "linecolor": "white",
             "minorgridcolor": "white",
             "startlinecolor": "#2a3f5f"
            },
            "baxis": {
             "endlinecolor": "#2a3f5f",
             "gridcolor": "white",
             "linecolor": "white",
             "minorgridcolor": "white",
             "startlinecolor": "#2a3f5f"
            },
            "type": "carpet"
           }
          ],
          "choropleth": [
           {
            "colorbar": {
             "outlinewidth": 0,
             "ticks": ""
            },
            "type": "choropleth"
           }
          ],
          "contour": [
           {
            "colorbar": {
             "outlinewidth": 0,
             "ticks": ""
            },
            "colorscale": [
             [
              0,
              "#0d0887"
             ],
             [
              0.1111111111111111,
              "#46039f"
             ],
             [
              0.2222222222222222,
              "#7201a8"
             ],
             [
              0.3333333333333333,
              "#9c179e"
             ],
             [
              0.4444444444444444,
              "#bd3786"
             ],
             [
              0.5555555555555556,
              "#d8576b"
             ],
             [
              0.6666666666666666,
              "#ed7953"
             ],
             [
              0.7777777777777778,
              "#fb9f3a"
             ],
             [
              0.8888888888888888,
              "#fdca26"
             ],
             [
              1,
              "#f0f921"
             ]
            ],
            "type": "contour"
           }
          ],
          "contourcarpet": [
           {
            "colorbar": {
             "outlinewidth": 0,
             "ticks": ""
            },
            "type": "contourcarpet"
           }
          ],
          "heatmap": [
           {
            "colorbar": {
             "outlinewidth": 0,
             "ticks": ""
            },
            "colorscale": [
             [
              0,
              "#0d0887"
             ],
             [
              0.1111111111111111,
              "#46039f"
             ],
             [
              0.2222222222222222,
              "#7201a8"
             ],
             [
              0.3333333333333333,
              "#9c179e"
             ],
             [
              0.4444444444444444,
              "#bd3786"
             ],
             [
              0.5555555555555556,
              "#d8576b"
             ],
             [
              0.6666666666666666,
              "#ed7953"
             ],
             [
              0.7777777777777778,
              "#fb9f3a"
             ],
             [
              0.8888888888888888,
              "#fdca26"
             ],
             [
              1,
              "#f0f921"
             ]
            ],
            "type": "heatmap"
           }
          ],
          "heatmapgl": [
           {
            "colorbar": {
             "outlinewidth": 0,
             "ticks": ""
            },
            "colorscale": [
             [
              0,
              "#0d0887"
             ],
             [
              0.1111111111111111,
              "#46039f"
             ],
             [
              0.2222222222222222,
              "#7201a8"
             ],
             [
              0.3333333333333333,
              "#9c179e"
             ],
             [
              0.4444444444444444,
              "#bd3786"
             ],
             [
              0.5555555555555556,
              "#d8576b"
             ],
             [
              0.6666666666666666,
              "#ed7953"
             ],
             [
              0.7777777777777778,
              "#fb9f3a"
             ],
             [
              0.8888888888888888,
              "#fdca26"
             ],
             [
              1,
              "#f0f921"
             ]
            ],
            "type": "heatmapgl"
           }
          ],
          "histogram": [
           {
            "marker": {
             "pattern": {
              "fillmode": "overlay",
              "size": 10,
              "solidity": 0.2
             }
            },
            "type": "histogram"
           }
          ],
          "histogram2d": [
           {
            "colorbar": {
             "outlinewidth": 0,
             "ticks": ""
            },
            "colorscale": [
             [
              0,
              "#0d0887"
             ],
             [
              0.1111111111111111,
              "#46039f"
             ],
             [
              0.2222222222222222,
              "#7201a8"
             ],
             [
              0.3333333333333333,
              "#9c179e"
             ],
             [
              0.4444444444444444,
              "#bd3786"
             ],
             [
              0.5555555555555556,
              "#d8576b"
             ],
             [
              0.6666666666666666,
              "#ed7953"
             ],
             [
              0.7777777777777778,
              "#fb9f3a"
             ],
             [
              0.8888888888888888,
              "#fdca26"
             ],
             [
              1,
              "#f0f921"
             ]
            ],
            "type": "histogram2d"
           }
          ],
          "histogram2dcontour": [
           {
            "colorbar": {
             "outlinewidth": 0,
             "ticks": ""
            },
            "colorscale": [
             [
              0,
              "#0d0887"
             ],
             [
              0.1111111111111111,
              "#46039f"
             ],
             [
              0.2222222222222222,
              "#7201a8"
             ],
             [
              0.3333333333333333,
              "#9c179e"
             ],
             [
              0.4444444444444444,
              "#bd3786"
             ],
             [
              0.5555555555555556,
              "#d8576b"
             ],
             [
              0.6666666666666666,
              "#ed7953"
             ],
             [
              0.7777777777777778,
              "#fb9f3a"
             ],
             [
              0.8888888888888888,
              "#fdca26"
             ],
             [
              1,
              "#f0f921"
             ]
            ],
            "type": "histogram2dcontour"
           }
          ],
          "mesh3d": [
           {
            "colorbar": {
             "outlinewidth": 0,
             "ticks": ""
            },
            "type": "mesh3d"
           }
          ],
          "parcoords": [
           {
            "line": {
             "colorbar": {
              "outlinewidth": 0,
              "ticks": ""
             }
            },
            "type": "parcoords"
           }
          ],
          "pie": [
           {
            "automargin": true,
            "type": "pie"
           }
          ],
          "scatter": [
           {
            "fillpattern": {
             "fillmode": "overlay",
             "size": 10,
             "solidity": 0.2
            },
            "type": "scatter"
           }
          ],
          "scatter3d": [
           {
            "line": {
             "colorbar": {
              "outlinewidth": 0,
              "ticks": ""
             }
            },
            "marker": {
             "colorbar": {
              "outlinewidth": 0,
              "ticks": ""
             }
            },
            "type": "scatter3d"
           }
          ],
          "scattercarpet": [
           {
            "marker": {
             "colorbar": {
              "outlinewidth": 0,
              "ticks": ""
             }
            },
            "type": "scattercarpet"
           }
          ],
          "scattergeo": [
           {
            "marker": {
             "colorbar": {
              "outlinewidth": 0,
              "ticks": ""
             }
            },
            "type": "scattergeo"
           }
          ],
          "scattergl": [
           {
            "marker": {
             "colorbar": {
              "outlinewidth": 0,
              "ticks": ""
             }
            },
            "type": "scattergl"
           }
          ],
          "scattermapbox": [
           {
            "marker": {
             "colorbar": {
              "outlinewidth": 0,
              "ticks": ""
             }
            },
            "type": "scattermapbox"
           }
          ],
          "scatterpolar": [
           {
            "marker": {
             "colorbar": {
              "outlinewidth": 0,
              "ticks": ""
             }
            },
            "type": "scatterpolar"
           }
          ],
          "scatterpolargl": [
           {
            "marker": {
             "colorbar": {
              "outlinewidth": 0,
              "ticks": ""
             }
            },
            "type": "scatterpolargl"
           }
          ],
          "scatterternary": [
           {
            "marker": {
             "colorbar": {
              "outlinewidth": 0,
              "ticks": ""
             }
            },
            "type": "scatterternary"
           }
          ],
          "surface": [
           {
            "colorbar": {
             "outlinewidth": 0,
             "ticks": ""
            },
            "colorscale": [
             [
              0,
              "#0d0887"
             ],
             [
              0.1111111111111111,
              "#46039f"
             ],
             [
              0.2222222222222222,
              "#7201a8"
             ],
             [
              0.3333333333333333,
              "#9c179e"
             ],
             [
              0.4444444444444444,
              "#bd3786"
             ],
             [
              0.5555555555555556,
              "#d8576b"
             ],
             [
              0.6666666666666666,
              "#ed7953"
             ],
             [
              0.7777777777777778,
              "#fb9f3a"
             ],
             [
              0.8888888888888888,
              "#fdca26"
             ],
             [
              1,
              "#f0f921"
             ]
            ],
            "type": "surface"
           }
          ],
          "table": [
           {
            "cells": {
             "fill": {
              "color": "#EBF0F8"
             },
             "line": {
              "color": "white"
             }
            },
            "header": {
             "fill": {
              "color": "#C8D4E3"
             },
             "line": {
              "color": "white"
             }
            },
            "type": "table"
           }
          ]
         },
         "layout": {
          "annotationdefaults": {
           "arrowcolor": "#2a3f5f",
           "arrowhead": 0,
           "arrowwidth": 1
          },
          "autotypenumbers": "strict",
          "coloraxis": {
           "colorbar": {
            "outlinewidth": 0,
            "ticks": ""
           }
          },
          "colorscale": {
           "diverging": [
            [
             0,
             "#8e0152"
            ],
            [
             0.1,
             "#c51b7d"
            ],
            [
             0.2,
             "#de77ae"
            ],
            [
             0.3,
             "#f1b6da"
            ],
            [
             0.4,
             "#fde0ef"
            ],
            [
             0.5,
             "#f7f7f7"
            ],
            [
             0.6,
             "#e6f5d0"
            ],
            [
             0.7,
             "#b8e186"
            ],
            [
             0.8,
             "#7fbc41"
            ],
            [
             0.9,
             "#4d9221"
            ],
            [
             1,
             "#276419"
            ]
           ],
           "sequential": [
            [
             0,
             "#0d0887"
            ],
            [
             0.1111111111111111,
             "#46039f"
            ],
            [
             0.2222222222222222,
             "#7201a8"
            ],
            [
             0.3333333333333333,
             "#9c179e"
            ],
            [
             0.4444444444444444,
             "#bd3786"
            ],
            [
             0.5555555555555556,
             "#d8576b"
            ],
            [
             0.6666666666666666,
             "#ed7953"
            ],
            [
             0.7777777777777778,
             "#fb9f3a"
            ],
            [
             0.8888888888888888,
             "#fdca26"
            ],
            [
             1,
             "#f0f921"
            ]
           ],
           "sequentialminus": [
            [
             0,
             "#0d0887"
            ],
            [
             0.1111111111111111,
             "#46039f"
            ],
            [
             0.2222222222222222,
             "#7201a8"
            ],
            [
             0.3333333333333333,
             "#9c179e"
            ],
            [
             0.4444444444444444,
             "#bd3786"
            ],
            [
             0.5555555555555556,
             "#d8576b"
            ],
            [
             0.6666666666666666,
             "#ed7953"
            ],
            [
             0.7777777777777778,
             "#fb9f3a"
            ],
            [
             0.8888888888888888,
             "#fdca26"
            ],
            [
             1,
             "#f0f921"
            ]
           ]
          },
          "colorway": [
           "#636efa",
           "#EF553B",
           "#00cc96",
           "#ab63fa",
           "#FFA15A",
           "#19d3f3",
           "#FF6692",
           "#B6E880",
           "#FF97FF",
           "#FECB52"
          ],
          "font": {
           "color": "#2a3f5f"
          },
          "geo": {
           "bgcolor": "white",
           "lakecolor": "white",
           "landcolor": "#E5ECF6",
           "showlakes": true,
           "showland": true,
           "subunitcolor": "white"
          },
          "hoverlabel": {
           "align": "left"
          },
          "hovermode": "closest",
          "mapbox": {
           "style": "light"
          },
          "paper_bgcolor": "white",
          "plot_bgcolor": "#E5ECF6",
          "polar": {
           "angularaxis": {
            "gridcolor": "white",
            "linecolor": "white",
            "ticks": ""
           },
           "bgcolor": "#E5ECF6",
           "radialaxis": {
            "gridcolor": "white",
            "linecolor": "white",
            "ticks": ""
           }
          },
          "scene": {
           "xaxis": {
            "backgroundcolor": "#E5ECF6",
            "gridcolor": "white",
            "gridwidth": 2,
            "linecolor": "white",
            "showbackground": true,
            "ticks": "",
            "zerolinecolor": "white"
           },
           "yaxis": {
            "backgroundcolor": "#E5ECF6",
            "gridcolor": "white",
            "gridwidth": 2,
            "linecolor": "white",
            "showbackground": true,
            "ticks": "",
            "zerolinecolor": "white"
           },
           "zaxis": {
            "backgroundcolor": "#E5ECF6",
            "gridcolor": "white",
            "gridwidth": 2,
            "linecolor": "white",
            "showbackground": true,
            "ticks": "",
            "zerolinecolor": "white"
           }
          },
          "shapedefaults": {
           "line": {
            "color": "#2a3f5f"
           }
          },
          "ternary": {
           "aaxis": {
            "gridcolor": "white",
            "linecolor": "white",
            "ticks": ""
           },
           "baxis": {
            "gridcolor": "white",
            "linecolor": "white",
            "ticks": ""
           },
           "bgcolor": "#E5ECF6",
           "caxis": {
            "gridcolor": "white",
            "linecolor": "white",
            "ticks": ""
           }
          },
          "title": {
           "x": 0.05
          },
          "xaxis": {
           "automargin": true,
           "gridcolor": "white",
           "linecolor": "white",
           "ticks": "",
           "title": {
            "standoff": 15
           },
           "zerolinecolor": "white",
           "zerolinewidth": 2
          },
          "yaxis": {
           "automargin": true,
           "gridcolor": "white",
           "linecolor": "white",
           "ticks": "",
           "title": {
            "standoff": 15
           },
           "zerolinecolor": "white",
           "zerolinewidth": 2
          }
         }
        },
        "title": {
         "text": "Trend of Average Ranks Over Years for Top New Branches"
        },
        "xaxis": {
         "range": [
          2021,
          2023
         ],
         "title": {
          "text": "Year"
         }
        },
        "yaxis": {
         "autorange": "reversed",
         "title": {
          "text": "Average Rank"
         }
        }
       }
      }
     },
     "metadata": {},
     "output_type": "display_data"
    },
    {
     "data": {
      "text/html": [
       "\n",
       "<script>\n",
       "    var myPlot = document.getElementsByClassName('plotly-graph-div')[0];\n",
       "\n",
       "    myPlot.on('plotly_hover', function(data){\n",
       "        var index = data.points[0].curveNumber;\n",
       "        Plotly.restyle(myPlot, 'opacity', Array.from({length: data.points.length}, (_, i) => i === index ? 1 : 0.2));\n",
       "    });\n",
       "\n",
       "    myPlot.on('plotly_unhover', function(data){\n",
       "        Plotly.restyle(myPlot, 'opacity', 0.2);\n",
       "    });\n",
       "</script>\n"
      ],
      "text/plain": [
       "<IPython.core.display.HTML object>"
      ]
     },
     "metadata": {},
     "output_type": "display_data"
    }
   ],
   "source": [
    "import pandas as pd\n",
    "import plotly.graph_objects as go\n",
    "import plotly.express as px\n",
    "from IPython.display import display, HTML\n",
    "\n",
    "# Load the dataset\n",
    "df = pd.read_csv('combined2.csv')\n",
    "df['Institute-Academic Program Name'] = df['Institute'] + ' - ' + df['Academic Program Name']\n",
    "\n",
    "# Ensure the relevant columns are present and convert ranks to numeric\n",
    "df['Opening Rank'] = pd.to_numeric(df['Opening Rank'], errors='coerce')\n",
    "df['Closing Rank'] = pd.to_numeric(df['Closing Rank'], errors='coerce')\n",
    "\n",
    "# Drop rows with NaN values in 'Opening Rank' or 'Closing Rank'\n",
    "df.dropna(subset=['Opening Rank', 'Closing Rank'], inplace=True)\n",
    "\n",
    "# Calculate the average rank\n",
    "df['Average Rank'] = (df['Closing Rank'] + df['Opening Rank']) / 2\n",
    "\n",
    "# Input parameters for filtering data\n",
    "rank_adv = int(input('Enter Your Advanced Rank: '))\n",
    "rank_mains = int(input('Enter Your Mains Rank: '))\n",
    "\n",
    "# Filter data based on rank inputs\n",
    "iit_data = df[(df['Opening Rank'] >= rank_adv) & df['Institute'].str.contains('Indian Institute  of Technology')]\n",
    "non_iit_data = df[(df['Opening Rank'] >= rank_mains) & (~df['Institute'].str.contains('Indian Institute  of Technology'))]\n",
    "\n",
    "df_filtered = pd.concat([iit_data, non_iit_data])\n",
    "\n",
    "# Filter the dataset based on specific conditions\n",
    "df_filtered = df_filtered.loc[(df_filtered['Gender'] == 'Gender-Neutral') & \n",
    "                              ((df_filtered['Quota'] == 'AI') | (df_filtered['Quota'] == 'OS')) & \n",
    "                              (df_filtered['Seat Type'] == 'OPEN') & \n",
    "                              (df_filtered['Round'] == 6) & \n",
    "                              (~df_filtered['Institute'].str.contains('Architecture', na=False)) & \n",
    "                              (~df_filtered['Academic Program Name'].str.contains('Architecture', na=False))]\n",
    "\n",
    "# Identify unique branches from the filtered data\n",
    "df_unique_branches = df_filtered.drop_duplicates(subset='Academic Program Name')['Academic Program Name']\n",
    "\n",
    "# Identify new branches introduced after 2019\n",
    "new_branches = pd.DataFrame()\n",
    "\n",
    "for branch in df_unique_branches:\n",
    "    df_branch = df[df['Academic Program Name'] == branch]\n",
    "    if df_branch['Year'].min() > 2019:\n",
    "        new_branches = pd.concat([new_branches, df_branch])\n",
    "\n",
    "# Sort by average rank\n",
    "sorted_by_popularity = new_branches.sort_values(by='Average Rank')\n",
    "\n",
    "# Select the top 10 branches based on the sorted order\n",
    "top_10 = sorted_by_popularity.drop_duplicates(subset=['Academic Program Name', 'Institute']).head(10)\n",
    "\n",
    "# Display the top 10 most popular new branches\n",
    "print(\"Top 10 Most Popular New Branches Based on Average Rank:\")\n",
    "print(top_10[['Academic Program Name', 'Institute']])\n",
    "\n",
    "# Create a Plotly bar chart\n",
    "fig = go.Figure()\n",
    "\n",
    "fig.add_trace(go.Bar(\n",
    "    x=top_10['Average Rank'],\n",
    "    y=top_10['Institute-Academic Program Name'],\n",
    "    orientation='h',\n",
    "    marker=dict(color=top_10['Average Rank'], coloraxis=\"coloraxis\")\n",
    "))\n",
    "\n",
    "fig.update_layout(\n",
    "    title='Average Rank of Top 10 Different Branches',\n",
    "    xaxis_title='Average Rank',\n",
    "    yaxis_title='Academic Program Name - Institute',\n",
    "    yaxis=dict(autorange='reversed'),\n",
    "    coloraxis=dict(colorscale='Blues'),\n",
    "    height=800\n",
    ")\n",
    "fig.show()\n",
    "\n",
    "# If the data includes multiple years, perform trend analysis\n",
    "if 'Year' in df.columns:\n",
    "    # Filter the data for the trend analysis\n",
    "    trend_data = df_filtered[df_filtered['Academic Program Name'].isin(top_10['Academic Program Name'])]\n",
    "    \n",
    "    # Plot trends for the selected branches\n",
    "    for branch in top_10['Institute-Academic Program Name']:\n",
    "        branch_data = trend_data[trend_data['Institute-Academic Program Name'] == branch]\n",
    "        fig.add_trace(go.Scatter(\n",
    "            x=branch_data['Year'],\n",
    "            y=branch_data['Average Rank'],\n",
    "            mode='lines+markers',\n",
    "            name=f'{branch} - Average Rank'\n",
    "        ))\n",
    "\n",
    "    fig.update_layout(\n",
    "        title='Trend of Average Ranks Over Years for Top New Branches',\n",
    "        xaxis_title='Year',\n",
    "        yaxis_title='Average Rank',\n",
    "        legend_title='Branches'\n",
    "    )\n",
    "fig.update_xaxes(range=[2021, 2023]) \n",
    "fig.show()\n",
    "\n",
    "# JavaScript for hover functionality\n",
    "hover_js = \"\"\"\n",
    "<script>\n",
    "    var myPlot = document.getElementsByClassName('plotly-graph-div')[0];\n",
    "\n",
    "    myPlot.on('plotly_hover', function(data){\n",
    "        var index = data.points[0].curveNumber;\n",
    "        Plotly.restyle(myPlot, 'opacity', Array.from({length: data.points.length}, (_, i) => i === index ? 1 : 0.2));\n",
    "    });\n",
    "\n",
    "    myPlot.on('plotly_unhover', function(data){\n",
    "        Plotly.restyle(myPlot, 'opacity', 0.2);\n",
    "    });\n",
    "</script>\n",
    "\"\"\"\n",
    "\n",
    "display(HTML(hover_js))\n"
   ]
  },
  {
   "cell_type": "code",
   "execution_count": 33,
   "metadata": {},
   "outputs": [
    {
     "name": "stderr",
     "output_type": "stream",
     "text": [
      "C:\\Users\\91934\\AppData\\Local\\Temp\\ipykernel_22672\\2832582472.py:6: DtypeWarning: Columns (6,7) have mixed types. Specify dtype option on import or set low_memory=False.\n",
      "  df = pd.read_csv('combined2.csv')\n"
     ]
    },
    {
     "ename": "ValueError",
     "evalue": "invalid literal for int() with base 10: ''",
     "output_type": "error",
     "traceback": [
      "\u001b[1;31m---------------------------------------------------------------------------\u001b[0m",
      "\u001b[1;31mValueError\u001b[0m                                Traceback (most recent call last)",
      "Cell \u001b[1;32mIn[33], line 19\u001b[0m\n\u001b[0;32m     17\u001b[0m seatty \u001b[38;5;241m=\u001b[39m \u001b[38;5;28minput\u001b[39m(\u001b[38;5;124m\"\u001b[39m\u001b[38;5;124mEnter Your seat type(OPEN,EWS,OBC-NCL,SC,ST):\u001b[39m\u001b[38;5;124m\"\u001b[39m)\n\u001b[0;32m     18\u001b[0m gender \u001b[38;5;241m=\u001b[39m \u001b[38;5;28minput\u001b[39m(\u001b[38;5;124m\"\u001b[39m\u001b[38;5;124mEnter Your Gender(Male,Female):\u001b[39m\u001b[38;5;124m\"\u001b[39m)\n\u001b[1;32m---> 19\u001b[0m year \u001b[38;5;241m=\u001b[39m \u001b[38;5;28mint\u001b[39m(\u001b[38;5;28minput\u001b[39m(\u001b[38;5;124m'\u001b[39m\u001b[38;5;124mEnter year you want to check\u001b[39m\u001b[38;5;124m'\u001b[39m))\n\u001b[0;32m     21\u001b[0m seatty \u001b[38;5;241m=\u001b[39m seatty\u001b[38;5;241m.\u001b[39mupper()\n\u001b[0;32m     22\u001b[0m gender \u001b[38;5;241m=\u001b[39m gender\u001b[38;5;241m.\u001b[39mlower()\n",
      "\u001b[1;31mValueError\u001b[0m: invalid literal for int() with base 10: ''"
     ]
    }
   ],
   "source": [
    "##7 Preparatory Rank List\n",
    "import pandas as pd\n",
    "import matplotlib.pyplot as plt\n",
    "\n",
    "# Load the dataset\n",
    "df = pd.read_csv('combined2.csv')\n",
    "\n",
    "# Ensure the relevant columns are present and convert ranks to numeric\n",
    "df['Opening Rank'] = pd.to_numeric(df['Opening Rank'], errors='coerce')\n",
    "df['Closing Rank'] = pd.to_numeric(df['Closing Rank'], errors='coerce')\n",
    "df.dropna(subset=['Institute','Opening Rank'],inplace=True)\n",
    "\n",
    "# Drop rows with NaN values in 'Opening Rank' or 'Closing Rank'\n",
    "df_prep = df[df['Closing Rank'].isnull()]\n",
    "\n",
    "seatty = input(\"Enter Your seat type(OPEN,EWS,OBC-NCL,SC,ST,EWS (PwD),OBC-NCL (PwD),OPEN (PwD), SC (PwD), ST(PwD)):\")\n",
    "gender = input(\"Enter Your Gender(Male,Female):\")\n",
    "year = int(input('Enter year you want to check'))\n",
    "\n",
    "seatty = seatty.upper()\n",
    "gender = gender.lower()\n",
    "gender_list = ['Female-only (including Supernumerary)'] if gender == 'female' else ['Gender-Neutral']\n",
    "\n",
    "prep_list = df_prep[(df['Round']==6) &(df_prep['Seat Type'] == seatty) & (df_prep['Gender'].isin(gender_list)) ]\n",
    "prep_list.sort_values(by = 'Opening Rank',ascending = False)\n",
    "print(prep_list[['Institute','Academic Program Name','Opening Rank']])\n"
   ]
  },
  {
   "cell_type": "code",
   "execution_count": 53,
   "metadata": {},
   "outputs": [
    {
     "name": "stderr",
     "output_type": "stream",
     "text": [
      "C:\\Users\\91934\\AppData\\Local\\Temp\\ipykernel_22672\\3431767227.py:5: DtypeWarning: Columns (6,7) have mixed types. Specify dtype option on import or set low_memory=False.\n",
      "  df = pd.read_csv('combined2.csv')\n"
     ]
    },
    {
     "name": "stdout",
     "output_type": "stream",
     "text": [
      "Cannot get Mechanical Engineering (4 Years, Bachelor of Technology) in Indian Institute  of Technology Guwahati in final round\n"
     ]
    }
   ],
   "source": [
    "##8 corresponding rounds prediction\n",
    "import numpy as np\n",
    "import pandas as pd\n",
    "\n",
    "df = pd.read_csv('combined2.csv')\n",
    "df['Opening Rank'] = pd.to_numeric(df['Opening Rank'], errors='coerce')\n",
    "df['Closing Rank'] = pd.to_numeric(df['Closing Rank'], errors='coerce')\n",
    "df.dropna(subset = 'Closing Rank',inplace=True)\n",
    "\n",
    "seatty = input(\"Enter Your seat type(OPEN,EWS,OBC-NCL,SC,ST,EWS (PwD),OBC-NCL (PwD),OPEN (PwD), SC (PwD), ST(PwD)):\")\n",
    "gender = input(\"Enter Your Gender(Male,Female):\")\n",
    "quota = input('Enter Your Quota(AI,HS,OS):')\n",
    "\n",
    "seatty = seatty.upper()\n",
    "gender = gender.lower()\n",
    "quota = quota.upper()\n",
    "gender_list = ['Female-only (including Supernumerary)'] if gender == 'female' else ['Gender-Neutral']\n",
    "\n",
    "df = df[(df['Year']==2023) & (df['Seat Type'] == seatty) & (df['Gender'].isin(gender_list)) & (df['Quota'] == quota)]\n",
    "target_branch = input('Enter Target Branch:')\n",
    "target_college = input('Enter Target College:')\n",
    "rank = int(input('Enter Rank'))\n",
    "rank_target = int(input('Enter Target branch Current Closing Rank'))\n",
    "round_no = int(input('Enter Current Round Number'))\n",
    "df_refined = df[(df['Academic Program Name'].str.contains(target_branch, case=False)) & (df['Institute'] == target_college) & ((df['Round'] == round_no) | (df['Round'] == 6))]\n",
    "branches = df_refined.drop_duplicates(subset='Academic Program Name', keep='first')\n",
    "for branch in branches['Academic Program Name']:\n",
    "    df_temp = df_refined[(df_refined['Round'] == round_no)]\n",
    "    df_6 = df_refined[(df_refined['Round'] == 6)]\n",
    "    diff = df_temp['Closing Rank'].values[0] - df_6['Closing Rank'].values[0]\n",
    "    diff = diff*0.9\n",
    "    if (diff > (rank - rank_target) & (rank <= df_6['Closing Rank'].values[0]) ) :\n",
    "        print(f'Can get {branch} in {target_college} in final round')\n",
    "    else :\n",
    "        print(f'Cannot get {branch} in {target_college} in final round')"
   ]
  }
 ],
 "metadata": {
  "kernelspec": {
   "display_name": "base",
   "language": "python",
   "name": "python3"
  },
  "language_info": {
   "codemirror_mode": {
    "name": "ipython",
    "version": 3
   },
   "file_extension": ".py",
   "mimetype": "text/x-python",
   "name": "python",
   "nbconvert_exporter": "python",
   "pygments_lexer": "ipython3",
   "version": "3.11.7"
  }
 },
 "nbformat": 4,
 "nbformat_minor": 2
}
